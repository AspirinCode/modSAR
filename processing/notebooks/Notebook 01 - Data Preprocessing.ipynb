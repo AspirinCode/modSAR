{
 "cells": [
  {
   "cell_type": "code",
   "execution_count": 1,
   "metadata": {
    "ExecuteTime": {
     "end_time": "2019-02-16T20:24:14.743958Z",
     "start_time": "2019-02-16T20:24:11.931601Z"
    }
   },
   "outputs": [
    {
     "name": "stderr",
     "output_type": "stream",
     "text": [
      "/opt/conda/lib/python3.6/site-packages/grequests.py:21: MonkeyPatchWarning: Monkey-patching ssl after ssl has already been imported may lead to errors, including RecursionError on Python 3.6. It may also silently lead to incorrect behaviour on Python 3.7. Please monkey-patch earlier. See https://github.com/gevent/gevent/issues/1016. Modules that had direct imports (NOT patched): ['urllib3.contrib.pyopenssl (/opt/conda/lib/python3.6/site-packages/urllib3/contrib/pyopenssl.py)', 'urllib3.util (/opt/conda/lib/python3.6/site-packages/urllib3/util/__init__.py)']. \n",
      "  curious_george.patch_all(thread=False, select=False)\n"
     ]
    }
   ],
   "source": [
    "import pandas as pd\n",
    "\n",
    "from rdkit import Chem\n",
    "from rdkit.Chem import AllChem, Descriptors, Draw\n",
    "from rdkit.Chem.Draw import SimilarityMaps\n",
    "from rdkit.Chem.Draw import IPythonConsole #Needed to show molecules\n",
    "\n",
    "from modSAR.datasource import ChEMBLApiDataSource\n",
    "from modSAR.cdk_utils import JavaCDKBridge"
   ]
  },
  {
   "cell_type": "markdown",
   "metadata": {},
   "source": [
    "TODO DOCUMENTATION:\n",
    "\n",
    "- Using ChEMBL API to download inhibitors\n",
    "- Or prepare your own inhibitors\n",
    "- Calculate molecular descriptors\n"
   ]
  },
  {
   "cell_type": "markdown",
   "metadata": {},
   "source": [
    "# Acquiring Data from ChEMBL\n",
    "\n",
    "The class `ChEMBLApiDataSource` interacts with the [ChEMBL webresource client API](https://github.com/chembl/chembl_webresource_client) to download bioactivities from ChEMBL. \n",
    "\n",
    "We must pass the ID of the target protein and the standard types we are interested in and the class will compile the compounds requested into a pandas DataFrame `bioactivities_df`:"
   ]
  },
  {
   "cell_type": "code",
   "execution_count": 2,
   "metadata": {
    "ExecuteTime": {
     "end_time": "2019-02-16T20:24:26.585821Z",
     "start_time": "2019-02-16T20:24:14.745808Z"
    }
   },
   "outputs": [
    {
     "name": "stdout",
     "output_type": "stream",
     "text": [
      "Progress: |██████████████████████████████████████████████████| 100.0% Complete\n"
     ]
    }
   ],
   "source": [
    "chembl_data_source = ChEMBLApiDataSource(target_id='CHEMBL202', standard_types=['IC50', 'Ki'])"
   ]
  },
  {
   "cell_type": "markdown",
   "metadata": {},
   "source": [
    "In total, the API returned 1500+ bioactivities registered as hDHFR ligands [CHEMBL202](https://www.ebi.ac.uk/chembl/target/inspect/CHEMBL202):"
   ]
  },
  {
   "cell_type": "code",
   "execution_count": 3,
   "metadata": {
    "ExecuteTime": {
     "end_time": "2019-02-16T20:24:26.598843Z",
     "start_time": "2019-02-16T20:24:26.587181Z"
    }
   },
   "outputs": [
    {
     "data": {
      "text/plain": [
       "ChEMBLApiDataSource object\n",
       "  target_id: CHEMBL202\n",
       "  bioactivities: 1573\n",
       "  standard_types: ['Ki' 'IC50' 'Log 1/Ki app' 'IC50/[E]' 'Ratio IC50']"
      ]
     },
     "execution_count": 3,
     "metadata": {},
     "output_type": "execute_result"
    }
   ],
   "source": [
    "chembl_data_source"
   ]
  },
  {
   "cell_type": "markdown",
   "metadata": {},
   "source": [
    "Here is a peak of the data returned from ChEMBL API:"
   ]
  },
  {
   "cell_type": "code",
   "execution_count": 4,
   "metadata": {
    "ExecuteTime": {
     "end_time": "2019-02-16T20:24:26.711201Z",
     "start_time": "2019-02-16T20:24:26.601395Z"
    }
   },
   "outputs": [
    {
     "data": {
      "text/html": [
       "<div>\n",
       "<style scoped>\n",
       "    .dataframe tbody tr th:only-of-type {\n",
       "        vertical-align: middle;\n",
       "    }\n",
       "\n",
       "    .dataframe tbody tr th {\n",
       "        vertical-align: top;\n",
       "    }\n",
       "\n",
       "    .dataframe thead th {\n",
       "        text-align: right;\n",
       "    }\n",
       "</style>\n",
       "<table border=\"1\" class=\"dataframe\">\n",
       "  <thead>\n",
       "    <tr style=\"text-align: right;\">\n",
       "      <th></th>\n",
       "      <th>activity_comment</th>\n",
       "      <th>activity_id</th>\n",
       "      <th>assay_chembl_id</th>\n",
       "      <th>assay_description</th>\n",
       "      <th>assay_type</th>\n",
       "      <th>bao_endpoint</th>\n",
       "      <th>bao_format</th>\n",
       "      <th>bao_label</th>\n",
       "      <th>canonical_smiles</th>\n",
       "      <th>data_validity_comment</th>\n",
       "      <th>data_validity_description</th>\n",
       "      <th>document_chembl_id</th>\n",
       "      <th>document_journal</th>\n",
       "      <th>document_year</th>\n",
       "      <th>ligand_efficiency</th>\n",
       "      <th>molecule_chembl_id</th>\n",
       "      <th>molecule_pref_name</th>\n",
       "      <th>parent_molecule_chembl_id</th>\n",
       "      <th>pchembl_value</th>\n",
       "      <th>potential_duplicate</th>\n",
       "      <th>published_relation</th>\n",
       "      <th>published_type</th>\n",
       "      <th>published_units</th>\n",
       "      <th>published_value</th>\n",
       "      <th>qudt_units</th>\n",
       "      <th>record_id</th>\n",
       "      <th>relation</th>\n",
       "      <th>src_id</th>\n",
       "      <th>standard_flag</th>\n",
       "      <th>standard_relation</th>\n",
       "      <th>standard_text_value</th>\n",
       "      <th>standard_type</th>\n",
       "      <th>standard_units</th>\n",
       "      <th>standard_upper_value</th>\n",
       "      <th>standard_value</th>\n",
       "      <th>target_chembl_id</th>\n",
       "      <th>target_organism</th>\n",
       "      <th>target_pref_name</th>\n",
       "      <th>target_tax_id</th>\n",
       "      <th>text_value</th>\n",
       "      <th>toid</th>\n",
       "      <th>type</th>\n",
       "      <th>units</th>\n",
       "      <th>uo_units</th>\n",
       "      <th>upper_value</th>\n",
       "      <th>value</th>\n",
       "    </tr>\n",
       "  </thead>\n",
       "  <tbody>\n",
       "    <tr>\n",
       "      <th>0</th>\n",
       "      <td>None</td>\n",
       "      <td>40879</td>\n",
       "      <td>CHEMBL858267</td>\n",
       "      <td>Inhibition of human dihydrofolate reductase (D...</td>\n",
       "      <td>B</td>\n",
       "      <td>None</td>\n",
       "      <td>BAO_0000357</td>\n",
       "      <td>single protein format</td>\n",
       "      <td>CC1(C)N=C(N)N=C(N)N1c2cccc(Cl)c2</td>\n",
       "      <td>None</td>\n",
       "      <td>None</td>\n",
       "      <td>CHEMBL1128273</td>\n",
       "      <td>J. Med. Chem.</td>\n",
       "      <td>1995</td>\n",
       "      <td>None</td>\n",
       "      <td>CHEMBL7130</td>\n",
       "      <td>None</td>\n",
       "      <td>CHEMBL7130</td>\n",
       "      <td>7.03</td>\n",
       "      <td>False</td>\n",
       "      <td>=</td>\n",
       "      <td>Log 1/Ki</td>\n",
       "      <td>None</td>\n",
       "      <td>7.03</td>\n",
       "      <td>None</td>\n",
       "      <td>347068</td>\n",
       "      <td>=</td>\n",
       "      <td>1</td>\n",
       "      <td>True</td>\n",
       "      <td>=</td>\n",
       "      <td>None</td>\n",
       "      <td>Ki</td>\n",
       "      <td>nM</td>\n",
       "      <td>None</td>\n",
       "      <td>93.33</td>\n",
       "      <td>CHEMBL202</td>\n",
       "      <td>Homo sapiens</td>\n",
       "      <td>Dihydrofolate reductase</td>\n",
       "      <td>9606</td>\n",
       "      <td>None</td>\n",
       "      <td>None</td>\n",
       "      <td>Log 1/Ki</td>\n",
       "      <td>None</td>\n",
       "      <td>None</td>\n",
       "      <td>None</td>\n",
       "      <td>7.03</td>\n",
       "    </tr>\n",
       "    <tr>\n",
       "      <th>0</th>\n",
       "      <td>None</td>\n",
       "      <td>42137</td>\n",
       "      <td>CHEMBL858267</td>\n",
       "      <td>Inhibition of human dihydrofolate reductase (D...</td>\n",
       "      <td>B</td>\n",
       "      <td>None</td>\n",
       "      <td>BAO_0000357</td>\n",
       "      <td>single protein format</td>\n",
       "      <td>CC1(C)N=C(N)N=C(N)N1c2ccc(CCCCc3ccc(cc3Cl)S(=O...</td>\n",
       "      <td>None</td>\n",
       "      <td>None</td>\n",
       "      <td>CHEMBL1128273</td>\n",
       "      <td>J. Med. Chem.</td>\n",
       "      <td>1995</td>\n",
       "      <td>None</td>\n",
       "      <td>CHEMBL33697</td>\n",
       "      <td>None</td>\n",
       "      <td>CHEMBL33697</td>\n",
       "      <td>7.65</td>\n",
       "      <td>False</td>\n",
       "      <td>=</td>\n",
       "      <td>Log 1/Ki</td>\n",
       "      <td>None</td>\n",
       "      <td>7.65</td>\n",
       "      <td>None</td>\n",
       "      <td>347071</td>\n",
       "      <td>=</td>\n",
       "      <td>1</td>\n",
       "      <td>True</td>\n",
       "      <td>=</td>\n",
       "      <td>None</td>\n",
       "      <td>Ki</td>\n",
       "      <td>nM</td>\n",
       "      <td>None</td>\n",
       "      <td>22.39</td>\n",
       "      <td>CHEMBL202</td>\n",
       "      <td>Homo sapiens</td>\n",
       "      <td>Dihydrofolate reductase</td>\n",
       "      <td>9606</td>\n",
       "      <td>None</td>\n",
       "      <td>None</td>\n",
       "      <td>Log 1/Ki</td>\n",
       "      <td>None</td>\n",
       "      <td>None</td>\n",
       "      <td>None</td>\n",
       "      <td>7.65</td>\n",
       "    </tr>\n",
       "    <tr>\n",
       "      <th>0</th>\n",
       "      <td>None</td>\n",
       "      <td>42149</td>\n",
       "      <td>CHEMBL858267</td>\n",
       "      <td>Inhibition of human dihydrofolate reductase (D...</td>\n",
       "      <td>B</td>\n",
       "      <td>None</td>\n",
       "      <td>BAO_0000357</td>\n",
       "      <td>single protein format</td>\n",
       "      <td>CC1(C)N=C(N)N=C(N)N1c2cccc(OCC34CC5CC(CC(C5)C3...</td>\n",
       "      <td>None</td>\n",
       "      <td>None</td>\n",
       "      <td>CHEMBL1128273</td>\n",
       "      <td>J. Med. Chem.</td>\n",
       "      <td>1995</td>\n",
       "      <td>None</td>\n",
       "      <td>CHEMBL281618</td>\n",
       "      <td>None</td>\n",
       "      <td>CHEMBL281618</td>\n",
       "      <td>6.11</td>\n",
       "      <td>False</td>\n",
       "      <td>=</td>\n",
       "      <td>Log 1/Ki</td>\n",
       "      <td>None</td>\n",
       "      <td>6.11</td>\n",
       "      <td>None</td>\n",
       "      <td>347091</td>\n",
       "      <td>=</td>\n",
       "      <td>1</td>\n",
       "      <td>True</td>\n",
       "      <td>=</td>\n",
       "      <td>None</td>\n",
       "      <td>Ki</td>\n",
       "      <td>nM</td>\n",
       "      <td>None</td>\n",
       "      <td>776.25</td>\n",
       "      <td>CHEMBL202</td>\n",
       "      <td>Homo sapiens</td>\n",
       "      <td>Dihydrofolate reductase</td>\n",
       "      <td>9606</td>\n",
       "      <td>None</td>\n",
       "      <td>None</td>\n",
       "      <td>Log 1/Ki</td>\n",
       "      <td>None</td>\n",
       "      <td>None</td>\n",
       "      <td>None</td>\n",
       "      <td>6.11</td>\n",
       "    </tr>\n",
       "    <tr>\n",
       "      <th>0</th>\n",
       "      <td>None</td>\n",
       "      <td>45682</td>\n",
       "      <td>CHEMBL858267</td>\n",
       "      <td>Inhibition of human dihydrofolate reductase (D...</td>\n",
       "      <td>B</td>\n",
       "      <td>None</td>\n",
       "      <td>BAO_0000357</td>\n",
       "      <td>single protein format</td>\n",
       "      <td>COc1cc(Cc2cnc(N)nc2N)cc(OC)c1OC</td>\n",
       "      <td>None</td>\n",
       "      <td>None</td>\n",
       "      <td>CHEMBL1128273</td>\n",
       "      <td>J. Med. Chem.</td>\n",
       "      <td>1995</td>\n",
       "      <td>None</td>\n",
       "      <td>CHEMBL22</td>\n",
       "      <td>TRIMETHOPRIM</td>\n",
       "      <td>CHEMBL22</td>\n",
       "      <td>6.71</td>\n",
       "      <td>False</td>\n",
       "      <td>=</td>\n",
       "      <td>Log 1/Ki</td>\n",
       "      <td>None</td>\n",
       "      <td>6.71</td>\n",
       "      <td>None</td>\n",
       "      <td>347106</td>\n",
       "      <td>=</td>\n",
       "      <td>1</td>\n",
       "      <td>True</td>\n",
       "      <td>=</td>\n",
       "      <td>None</td>\n",
       "      <td>Ki</td>\n",
       "      <td>nM</td>\n",
       "      <td>None</td>\n",
       "      <td>194.98</td>\n",
       "      <td>CHEMBL202</td>\n",
       "      <td>Homo sapiens</td>\n",
       "      <td>Dihydrofolate reductase</td>\n",
       "      <td>9606</td>\n",
       "      <td>None</td>\n",
       "      <td>None</td>\n",
       "      <td>Log 1/Ki</td>\n",
       "      <td>None</td>\n",
       "      <td>None</td>\n",
       "      <td>None</td>\n",
       "      <td>6.71</td>\n",
       "    </tr>\n",
       "    <tr>\n",
       "      <th>0</th>\n",
       "      <td>None</td>\n",
       "      <td>46931</td>\n",
       "      <td>CHEMBL666808</td>\n",
       "      <td>Inhibition of human dihydrofolate reductase (D...</td>\n",
       "      <td>B</td>\n",
       "      <td>None</td>\n",
       "      <td>BAO_0000357</td>\n",
       "      <td>single protein format</td>\n",
       "      <td>CC1(C)N=C(N)N=C(N)N1c2cccc(SCc3ccccc3)c2</td>\n",
       "      <td>None</td>\n",
       "      <td>None</td>\n",
       "      <td>CHEMBL1128273</td>\n",
       "      <td>J. Med. Chem.</td>\n",
       "      <td>1995</td>\n",
       "      <td>None</td>\n",
       "      <td>CHEMBL20975</td>\n",
       "      <td>None</td>\n",
       "      <td>CHEMBL20975</td>\n",
       "      <td>7.37</td>\n",
       "      <td>False</td>\n",
       "      <td>=</td>\n",
       "      <td>Log 1/Ki</td>\n",
       "      <td>None</td>\n",
       "      <td>7.37</td>\n",
       "      <td>None</td>\n",
       "      <td>347115</td>\n",
       "      <td>=</td>\n",
       "      <td>1</td>\n",
       "      <td>True</td>\n",
       "      <td>=</td>\n",
       "      <td>None</td>\n",
       "      <td>Ki</td>\n",
       "      <td>nM</td>\n",
       "      <td>None</td>\n",
       "      <td>42.66</td>\n",
       "      <td>CHEMBL202</td>\n",
       "      <td>Homo sapiens</td>\n",
       "      <td>Dihydrofolate reductase</td>\n",
       "      <td>9606</td>\n",
       "      <td>None</td>\n",
       "      <td>None</td>\n",
       "      <td>Log 1/Ki</td>\n",
       "      <td>None</td>\n",
       "      <td>None</td>\n",
       "      <td>None</td>\n",
       "      <td>7.37</td>\n",
       "    </tr>\n",
       "  </tbody>\n",
       "</table>\n",
       "</div>"
      ],
      "text/plain": [
       "  activity_comment activity_id assay_chembl_id  ...  uo_units upper_value value\n",
       "0             None       40879    CHEMBL858267  ...      None        None  7.03\n",
       "0             None       42137    CHEMBL858267  ...      None        None  7.65\n",
       "0             None       42149    CHEMBL858267  ...      None        None  6.11\n",
       "0             None       45682    CHEMBL858267  ...      None        None  6.71\n",
       "0             None       46931    CHEMBL666808  ...      None        None  7.37\n",
       "\n",
       "[5 rows x 46 columns]"
      ]
     },
     "execution_count": 4,
     "metadata": {},
     "output_type": "execute_result"
    }
   ],
   "source": [
    "chembl_data_source.bioactivities_df.head()"
   ]
  },
  {
   "cell_type": "markdown",
   "metadata": {},
   "source": [
    "The distribution of standard activity types in the data set:"
   ]
  },
  {
   "cell_type": "code",
   "execution_count": 5,
   "metadata": {
    "ExecuteTime": {
     "end_time": "2019-02-16T20:24:26.721205Z",
     "start_time": "2019-02-16T20:24:26.713604Z"
    }
   },
   "outputs": [
    {
     "data": {
      "text/plain": [
       "IC50            1090\n",
       "Ki               435\n",
       "Log 1/Ki app      38\n",
       "IC50/[E]           8\n",
       "Ratio IC50         2\n",
       "Name: standard_type, dtype: int64"
      ]
     },
     "execution_count": 5,
     "metadata": {},
     "output_type": "execute_result"
    }
   ],
   "source": [
    "chembl_data_source.bioactivities_df['standard_type'].value_counts()"
   ]
  },
  {
   "cell_type": "markdown",
   "metadata": {},
   "source": [
    "# Preprocessing\n",
    "\n",
    "Methods in `Preprocessing` class filters out invalid/more inaccurate entries for QSAR modelling. In summary, the preprocessing step for ChEMBL data involves:\n",
    "\n",
    "- Select only valid entries as indicated by the column `data_validity_comment`\n",
    "- Select only entries where relation is of type equality (e.g.: IC50 = 30nM), as indicated by column `relation`\n",
    "- Handle duplicated entries\n",
    "- Remove data marked as outliers\n",
    "\n",
    "To obtain a preprocessed dataset, either use `chembl_data_source.get_qsar_dataset()` method or the function `build_qsar_dataset(chembl_data_source)`:\n"
   ]
  },
  {
   "cell_type": "code",
   "execution_count": 15,
   "metadata": {
    "ExecuteTime": {
     "end_time": "2019-02-16T20:26:27.844459Z",
     "start_time": "2019-02-16T20:26:26.961916Z"
    }
   },
   "outputs": [
    {
     "name": "stdout",
     "output_type": "stream",
     "text": [
      "Cleaning up JavaGateway\n",
      "Compiling CDKBridge\n",
      "Starting CDKBridge\n"
     ]
    },
    {
     "ename": "Py4JNetworkError",
     "evalue": "An error occurred while trying to connect to the Java server (127.0.0.1:25333)",
     "output_type": "error",
     "traceback": [
      "\u001b[0;31m---------------------------------------------------------------------------\u001b[0m",
      "\u001b[0;31mIndexError\u001b[0m                                Traceback (most recent call last)",
      "\u001b[0;32m/opt/conda/lib/python3.6/site-packages/py4j/java_gateway.py\u001b[0m in \u001b[0;36m_get_connection\u001b[0;34m(self)\u001b[0m\n\u001b[1;32m    957\u001b[0m         \u001b[0;32mtry\u001b[0m\u001b[0;34m:\u001b[0m\u001b[0;34m\u001b[0m\u001b[0m\n\u001b[0;32m--> 958\u001b[0;31m             \u001b[0mconnection\u001b[0m \u001b[0;34m=\u001b[0m \u001b[0mself\u001b[0m\u001b[0;34m.\u001b[0m\u001b[0mdeque\u001b[0m\u001b[0;34m.\u001b[0m\u001b[0mpop\u001b[0m\u001b[0;34m(\u001b[0m\u001b[0;34m)\u001b[0m\u001b[0;34m\u001b[0m\u001b[0m\n\u001b[0m\u001b[1;32m    959\u001b[0m         \u001b[0;32mexcept\u001b[0m \u001b[0mIndexError\u001b[0m\u001b[0;34m:\u001b[0m\u001b[0;34m\u001b[0m\u001b[0m\n",
      "\u001b[0;31mIndexError\u001b[0m: pop from an empty deque",
      "\nDuring handling of the above exception, another exception occurred:\n",
      "\u001b[0;31mConnectionRefusedError\u001b[0m                    Traceback (most recent call last)",
      "\u001b[0;32m/opt/conda/lib/python3.6/site-packages/py4j/java_gateway.py\u001b[0m in \u001b[0;36mstart\u001b[0;34m(self)\u001b[0m\n\u001b[1;32m   1095\u001b[0m         \u001b[0;32mtry\u001b[0m\u001b[0;34m:\u001b[0m\u001b[0;34m\u001b[0m\u001b[0m\n\u001b[0;32m-> 1096\u001b[0;31m             \u001b[0mself\u001b[0m\u001b[0;34m.\u001b[0m\u001b[0msocket\u001b[0m\u001b[0;34m.\u001b[0m\u001b[0mconnect\u001b[0m\u001b[0;34m(\u001b[0m\u001b[0;34m(\u001b[0m\u001b[0mself\u001b[0m\u001b[0;34m.\u001b[0m\u001b[0maddress\u001b[0m\u001b[0;34m,\u001b[0m \u001b[0mself\u001b[0m\u001b[0;34m.\u001b[0m\u001b[0mport\u001b[0m\u001b[0;34m)\u001b[0m\u001b[0;34m)\u001b[0m\u001b[0;34m\u001b[0m\u001b[0m\n\u001b[0m\u001b[1;32m   1097\u001b[0m             \u001b[0mself\u001b[0m\u001b[0;34m.\u001b[0m\u001b[0mstream\u001b[0m \u001b[0;34m=\u001b[0m \u001b[0mself\u001b[0m\u001b[0;34m.\u001b[0m\u001b[0msocket\u001b[0m\u001b[0;34m.\u001b[0m\u001b[0mmakefile\u001b[0m\u001b[0;34m(\u001b[0m\u001b[0;34m\"rb\"\u001b[0m\u001b[0;34m)\u001b[0m\u001b[0;34m\u001b[0m\u001b[0m\n",
      "\u001b[0;32m/opt/conda/lib/python3.6/site-packages/gevent/_socket3.py\u001b[0m in \u001b[0;36mconnect\u001b[0;34m(self, address)\u001b[0m\n\u001b[1;32m    334\u001b[0m                 \u001b[0;32mif\u001b[0m \u001b[0merr\u001b[0m\u001b[0;34m:\u001b[0m\u001b[0;34m\u001b[0m\u001b[0m\n\u001b[0;32m--> 335\u001b[0;31m                     \u001b[0;32mraise\u001b[0m \u001b[0merror\u001b[0m\u001b[0;34m(\u001b[0m\u001b[0merr\u001b[0m\u001b[0;34m,\u001b[0m \u001b[0mstrerror\u001b[0m\u001b[0;34m(\u001b[0m\u001b[0merr\u001b[0m\u001b[0;34m)\u001b[0m\u001b[0;34m)\u001b[0m\u001b[0;34m\u001b[0m\u001b[0m\n\u001b[0m\u001b[1;32m    336\u001b[0m                 \u001b[0mresult\u001b[0m \u001b[0;34m=\u001b[0m \u001b[0m_socket\u001b[0m\u001b[0;34m.\u001b[0m\u001b[0msocket\u001b[0m\u001b[0;34m.\u001b[0m\u001b[0mconnect_ex\u001b[0m\u001b[0;34m(\u001b[0m\u001b[0mself\u001b[0m\u001b[0;34m.\u001b[0m\u001b[0m_sock\u001b[0m\u001b[0;34m,\u001b[0m \u001b[0maddress\u001b[0m\u001b[0;34m)\u001b[0m\u001b[0;34m\u001b[0m\u001b[0m\n",
      "\u001b[0;31mConnectionRefusedError\u001b[0m: [Errno 111] Connection refused",
      "\nDuring handling of the above exception, another exception occurred:\n",
      "\u001b[0;31mPy4JNetworkError\u001b[0m                          Traceback (most recent call last)",
      "\u001b[0;32m<ipython-input-15-bc4697027d60>\u001b[0m in \u001b[0;36m<module>\u001b[0;34m()\u001b[0m\n\u001b[0;32m----> 1\u001b[0;31m \u001b[0mqsar_dataset\u001b[0m \u001b[0;34m=\u001b[0m \u001b[0mchembl_data_source\u001b[0m\u001b[0;34m.\u001b[0m\u001b[0mget_qsar_dataset\u001b[0m\u001b[0;34m(\u001b[0m\u001b[0;34m)\u001b[0m\u001b[0;34m\u001b[0m\u001b[0m\n\u001b[0m",
      "\u001b[0;32m/mnt/code/modSAR/datasource.py\u001b[0m in \u001b[0;36mget_qsar_dataset\u001b[0;34m(self)\u001b[0m\n\u001b[1;32m    196\u001b[0m     \u001b[0;32mdef\u001b[0m \u001b[0mget_qsar_dataset\u001b[0m\u001b[0;34m(\u001b[0m\u001b[0mself\u001b[0m\u001b[0;34m)\u001b[0m\u001b[0;34m:\u001b[0m\u001b[0;34m\u001b[0m\u001b[0m\n\u001b[1;32m    197\u001b[0m         \u001b[0;34m\"\"\"Preprocess and transform bioactivities into a QSARDataset object\"\"\"\u001b[0m\u001b[0;34m\u001b[0m\u001b[0m\n\u001b[0;32m--> 198\u001b[0;31m         \u001b[0;32mreturn\u001b[0m \u001b[0mbuild_qsar_dataset\u001b[0m\u001b[0;34m(\u001b[0m\u001b[0mself\u001b[0m\u001b[0;34m)\u001b[0m\u001b[0;34m\u001b[0m\u001b[0m\n\u001b[0m\u001b[1;32m    199\u001b[0m \u001b[0;34m\u001b[0m\u001b[0m\n\u001b[1;32m    200\u001b[0m     \u001b[0;32mdef\u001b[0m \u001b[0m__str__\u001b[0m\u001b[0;34m(\u001b[0m\u001b[0mself\u001b[0m\u001b[0;34m)\u001b[0m\u001b[0;34m:\u001b[0m\u001b[0;34m\u001b[0m\u001b[0m\n",
      "\u001b[0;32m/mnt/code/modSAR/datasource.py\u001b[0m in \u001b[0;36mbuild_qsar_dataset\u001b[0;34m(data_source)\u001b[0m\n\u001b[1;32m     38\u001b[0m \u001b[0;34m\u001b[0m\u001b[0m\n\u001b[1;32m     39\u001b[0m     \u001b[0mclean_df\u001b[0m \u001b[0;34m=\u001b[0m \u001b[0mPreprocessing\u001b[0m\u001b[0;34m(\u001b[0m\u001b[0;34m)\u001b[0m\u001b[0;34m.\u001b[0m\u001b[0mclean_dataset\u001b[0m\u001b[0;34m(\u001b[0m\u001b[0mdata_source\u001b[0m\u001b[0;34m)\u001b[0m\u001b[0;34m\u001b[0m\u001b[0m\n\u001b[0;32m---> 40\u001b[0;31m     \u001b[0mdescriptors\u001b[0m \u001b[0;34m=\u001b[0m \u001b[0mCDKDescriptors\u001b[0m\u001b[0;34m(\u001b[0m\u001b[0;34m)\u001b[0m\u001b[0;34m.\u001b[0m\u001b[0mcalculate\u001b[0m\u001b[0;34m(\u001b[0m\u001b[0mclean_df\u001b[0m\u001b[0;34m,\u001b[0m \u001b[0mdata_source\u001b[0m\u001b[0;34m.\u001b[0m\u001b[0msmiles_column\u001b[0m\u001b[0;34m)\u001b[0m\u001b[0;34m\u001b[0m\u001b[0m\n\u001b[0m\u001b[1;32m     41\u001b[0m     \u001b[0mqsar_dataset\u001b[0m \u001b[0;34m=\u001b[0m \u001b[0mQSARDataset\u001b[0m\u001b[0;34m(\u001b[0m\u001b[0mdescriptors\u001b[0m\u001b[0;34m,\u001b[0m \u001b[0mactivity\u001b[0m\u001b[0;34m=\u001b[0m\u001b[0mclean_df\u001b[0m\u001b[0;34m,\u001b[0m \u001b[0mmetadata\u001b[0m\u001b[0;34m=\u001b[0m\u001b[0mclean_df\u001b[0m\u001b[0;34m)\u001b[0m\u001b[0;34m\u001b[0m\u001b[0m\n\u001b[1;32m     42\u001b[0m     \u001b[0;32mreturn\u001b[0m \u001b[0mqsar_dataset\u001b[0m\u001b[0;34m\u001b[0m\u001b[0m\n",
      "\u001b[0;32m/mnt/code/modSAR/cdk_utils.py\u001b[0m in \u001b[0;36m__init__\u001b[0;34m(self)\u001b[0m\n\u001b[1;32m     84\u001b[0m \u001b[0;34m\u001b[0m\u001b[0m\n\u001b[1;32m     85\u001b[0m         \u001b[0mgateway\u001b[0m \u001b[0;34m=\u001b[0m \u001b[0mjava_cdk_bridge\u001b[0m\u001b[0;34m.\u001b[0m\u001b[0mgateway\u001b[0m\u001b[0;34m\u001b[0m\u001b[0m\n\u001b[0;32m---> 86\u001b[0;31m         \u001b[0mcdk\u001b[0m \u001b[0;34m=\u001b[0m \u001b[0mgateway\u001b[0m\u001b[0;34m.\u001b[0m\u001b[0mjvm\u001b[0m\u001b[0;34m.\u001b[0m\u001b[0morg\u001b[0m\u001b[0;34m.\u001b[0m\u001b[0mopenscience\u001b[0m\u001b[0;34m.\u001b[0m\u001b[0mcdk\u001b[0m\u001b[0;34m\u001b[0m\u001b[0m\n\u001b[0m\u001b[1;32m     87\u001b[0m \u001b[0;34m\u001b[0m\u001b[0m\n\u001b[1;32m     88\u001b[0m         \u001b[0mbuilder\u001b[0m \u001b[0;34m=\u001b[0m \u001b[0mcdk\u001b[0m\u001b[0;34m.\u001b[0m\u001b[0mDefaultChemObjectBuilder\u001b[0m\u001b[0;34m.\u001b[0m\u001b[0mgetInstance\u001b[0m\u001b[0;34m(\u001b[0m\u001b[0;34m)\u001b[0m\u001b[0;34m\u001b[0m\u001b[0m\n",
      "\u001b[0;32m/opt/conda/lib/python3.6/site-packages/py4j/java_gateway.py\u001b[0m in \u001b[0;36m__getattr__\u001b[0;34m(self, name)\u001b[0m\n\u001b[1;32m   1676\u001b[0m             \u001b[0mproto\u001b[0m\u001b[0;34m.\u001b[0m\u001b[0mREFLECTION_COMMAND_NAME\u001b[0m \u001b[0;34m+\u001b[0m\u001b[0;34m\u001b[0m\u001b[0m\n\u001b[1;32m   1677\u001b[0m             \u001b[0mproto\u001b[0m\u001b[0;34m.\u001b[0m\u001b[0mREFL_GET_UNKNOWN_SUB_COMMAND_NAME\u001b[0m \u001b[0;34m+\u001b[0m \u001b[0mname\u001b[0m \u001b[0;34m+\u001b[0m \u001b[0;34m\"\\n\"\u001b[0m \u001b[0;34m+\u001b[0m \u001b[0mself\u001b[0m\u001b[0;34m.\u001b[0m\u001b[0m_id\u001b[0m \u001b[0;34m+\u001b[0m\u001b[0;34m\u001b[0m\u001b[0m\n\u001b[0;32m-> 1678\u001b[0;31m             \"\\n\" + proto.END_COMMAND_PART)\n\u001b[0m\u001b[1;32m   1679\u001b[0m         \u001b[0;32mif\u001b[0m \u001b[0manswer\u001b[0m \u001b[0;34m==\u001b[0m \u001b[0mproto\u001b[0m\u001b[0;34m.\u001b[0m\u001b[0mSUCCESS_PACKAGE\u001b[0m\u001b[0;34m:\u001b[0m\u001b[0;34m\u001b[0m\u001b[0m\n\u001b[1;32m   1680\u001b[0m             \u001b[0;32mreturn\u001b[0m \u001b[0mJavaPackage\u001b[0m\u001b[0;34m(\u001b[0m\u001b[0mname\u001b[0m\u001b[0;34m,\u001b[0m \u001b[0mself\u001b[0m\u001b[0;34m.\u001b[0m\u001b[0m_gateway_client\u001b[0m\u001b[0;34m,\u001b[0m \u001b[0mjvm_id\u001b[0m\u001b[0;34m=\u001b[0m\u001b[0mself\u001b[0m\u001b[0;34m.\u001b[0m\u001b[0m_id\u001b[0m\u001b[0;34m)\u001b[0m\u001b[0;34m\u001b[0m\u001b[0m\n",
      "\u001b[0;32m/opt/conda/lib/python3.6/site-packages/py4j/java_gateway.py\u001b[0m in \u001b[0;36msend_command\u001b[0;34m(self, command, retry, binary)\u001b[0m\n\u001b[1;32m   1010\u001b[0m          \u001b[0;32mif\u001b[0m\u001b[0;31m \u001b[0m\u001b[0;31m`\u001b[0m\u001b[0mbinary\u001b[0m\u001b[0;31m`\u001b[0m \u001b[0;32mis\u001b[0m\u001b[0;31m \u001b[0m\u001b[0;31m`\u001b[0m\u001b[0;32mTrue\u001b[0m\u001b[0;31m`\u001b[0m\u001b[0;34m.\u001b[0m\u001b[0;34m\u001b[0m\u001b[0m\n\u001b[1;32m   1011\u001b[0m         \"\"\"\n\u001b[0;32m-> 1012\u001b[0;31m         \u001b[0mconnection\u001b[0m \u001b[0;34m=\u001b[0m \u001b[0mself\u001b[0m\u001b[0;34m.\u001b[0m\u001b[0m_get_connection\u001b[0m\u001b[0;34m(\u001b[0m\u001b[0;34m)\u001b[0m\u001b[0;34m\u001b[0m\u001b[0m\n\u001b[0m\u001b[1;32m   1013\u001b[0m         \u001b[0;32mtry\u001b[0m\u001b[0;34m:\u001b[0m\u001b[0;34m\u001b[0m\u001b[0m\n\u001b[1;32m   1014\u001b[0m             \u001b[0mresponse\u001b[0m \u001b[0;34m=\u001b[0m \u001b[0mconnection\u001b[0m\u001b[0;34m.\u001b[0m\u001b[0msend_command\u001b[0m\u001b[0;34m(\u001b[0m\u001b[0mcommand\u001b[0m\u001b[0;34m)\u001b[0m\u001b[0;34m\u001b[0m\u001b[0m\n",
      "\u001b[0;32m/opt/conda/lib/python3.6/site-packages/py4j/java_gateway.py\u001b[0m in \u001b[0;36m_get_connection\u001b[0;34m(self)\u001b[0m\n\u001b[1;32m    958\u001b[0m             \u001b[0mconnection\u001b[0m \u001b[0;34m=\u001b[0m \u001b[0mself\u001b[0m\u001b[0;34m.\u001b[0m\u001b[0mdeque\u001b[0m\u001b[0;34m.\u001b[0m\u001b[0mpop\u001b[0m\u001b[0;34m(\u001b[0m\u001b[0;34m)\u001b[0m\u001b[0;34m\u001b[0m\u001b[0m\n\u001b[1;32m    959\u001b[0m         \u001b[0;32mexcept\u001b[0m \u001b[0mIndexError\u001b[0m\u001b[0;34m:\u001b[0m\u001b[0;34m\u001b[0m\u001b[0m\n\u001b[0;32m--> 960\u001b[0;31m             \u001b[0mconnection\u001b[0m \u001b[0;34m=\u001b[0m \u001b[0mself\u001b[0m\u001b[0;34m.\u001b[0m\u001b[0m_create_connection\u001b[0m\u001b[0;34m(\u001b[0m\u001b[0;34m)\u001b[0m\u001b[0;34m\u001b[0m\u001b[0m\n\u001b[0m\u001b[1;32m    961\u001b[0m         \u001b[0;32mreturn\u001b[0m \u001b[0mconnection\u001b[0m\u001b[0;34m\u001b[0m\u001b[0m\n\u001b[1;32m    962\u001b[0m \u001b[0;34m\u001b[0m\u001b[0m\n",
      "\u001b[0;32m/opt/conda/lib/python3.6/site-packages/py4j/java_gateway.py\u001b[0m in \u001b[0;36m_create_connection\u001b[0;34m(self)\u001b[0m\n\u001b[1;32m    964\u001b[0m         connection = GatewayConnection(\n\u001b[1;32m    965\u001b[0m             self.gateway_parameters, self.gateway_property)\n\u001b[0;32m--> 966\u001b[0;31m         \u001b[0mconnection\u001b[0m\u001b[0;34m.\u001b[0m\u001b[0mstart\u001b[0m\u001b[0;34m(\u001b[0m\u001b[0;34m)\u001b[0m\u001b[0;34m\u001b[0m\u001b[0m\n\u001b[0m\u001b[1;32m    967\u001b[0m         \u001b[0;32mreturn\u001b[0m \u001b[0mconnection\u001b[0m\u001b[0;34m\u001b[0m\u001b[0m\n\u001b[1;32m    968\u001b[0m \u001b[0;34m\u001b[0m\u001b[0m\n",
      "\u001b[0;32m/opt/conda/lib/python3.6/site-packages/py4j/java_gateway.py\u001b[0m in \u001b[0;36mstart\u001b[0;34m(self)\u001b[0m\n\u001b[1;32m   1106\u001b[0m                 \u001b[0;34m\"server ({0}:{1})\"\u001b[0m\u001b[0;34m.\u001b[0m\u001b[0mformat\u001b[0m\u001b[0;34m(\u001b[0m\u001b[0mself\u001b[0m\u001b[0;34m.\u001b[0m\u001b[0maddress\u001b[0m\u001b[0;34m,\u001b[0m \u001b[0mself\u001b[0m\u001b[0;34m.\u001b[0m\u001b[0mport\u001b[0m\u001b[0;34m)\u001b[0m\u001b[0;34m\u001b[0m\u001b[0m\n\u001b[1;32m   1107\u001b[0m             \u001b[0mlogger\u001b[0m\u001b[0;34m.\u001b[0m\u001b[0mexception\u001b[0m\u001b[0;34m(\u001b[0m\u001b[0mmsg\u001b[0m\u001b[0;34m)\u001b[0m\u001b[0;34m\u001b[0m\u001b[0m\n\u001b[0;32m-> 1108\u001b[0;31m             \u001b[0;32mraise\u001b[0m \u001b[0mPy4JNetworkError\u001b[0m\u001b[0;34m(\u001b[0m\u001b[0mmsg\u001b[0m\u001b[0;34m,\u001b[0m \u001b[0me\u001b[0m\u001b[0;34m)\u001b[0m\u001b[0;34m\u001b[0m\u001b[0m\n\u001b[0m\u001b[1;32m   1109\u001b[0m \u001b[0;34m\u001b[0m\u001b[0m\n\u001b[1;32m   1110\u001b[0m     \u001b[0;32mdef\u001b[0m \u001b[0m_authenticate_connection\u001b[0m\u001b[0;34m(\u001b[0m\u001b[0mself\u001b[0m\u001b[0;34m)\u001b[0m\u001b[0;34m:\u001b[0m\u001b[0;34m\u001b[0m\u001b[0m\n",
      "\u001b[0;31mPy4JNetworkError\u001b[0m: An error occurred while trying to connect to the Java server (127.0.0.1:25333)"
     ]
    }
   ],
   "source": [
    "qsar_dataset = chembl_data_source.get_qsar_dataset()"
   ]
  },
  {
   "cell_type": "markdown",
   "metadata": {},
   "source": [
    "Because of this preprocessing step, the resulting data set has fewer entries:"
   ]
  },
  {
   "cell_type": "code",
   "execution_count": null,
   "metadata": {
    "ExecuteTime": {
     "end_time": "2019-02-16T20:24:27.978862Z",
     "start_time": "2019-02-16T20:24:11.950Z"
    }
   },
   "outputs": [],
   "source": [
    "preprocessed_df.shape"
   ]
  },
  {
   "cell_type": "markdown",
   "metadata": {},
   "source": [
    "Number of duplicated entries that existed in the dataset and were converted to a single entry:"
   ]
  },
  {
   "cell_type": "code",
   "execution_count": null,
   "metadata": {
    "ExecuteTime": {
     "end_time": "2019-02-16T20:24:27.979843Z",
     "start_time": "2019-02-16T20:24:11.952Z"
    }
   },
   "outputs": [],
   "source": [
    "type(chembl_data_source) is ChEMBLApiDataSource"
   ]
  },
  {
   "cell_type": "code",
   "execution_count": null,
   "metadata": {
    "ExecuteTime": {
     "end_time": "2019-02-16T20:24:27.980740Z",
     "start_time": "2019-02-16T20:24:11.954Z"
    }
   },
   "outputs": [],
   "source": [
    "preprocessed_df['duplicated'].sum()"
   ]
  },
  {
   "cell_type": "code",
   "execution_count": null,
   "metadata": {
    "ExecuteTime": {
     "end_time": "2019-02-16T20:24:27.981421Z",
     "start_time": "2019-02-16T20:24:11.956Z"
    }
   },
   "outputs": [],
   "source": [
    "import altair as alt\n",
    "\n",
    "alt.renderers.enable('notebook')\n",
    "\n",
    "chart = alt.Chart(preprocessed_df).mark_bar().encode(\n",
    "    x=alt.X(\"median_pchembl_value\", bin=True, title='Median pChEMBL value'),\n",
    "    y='count()',\n",
    "    tooltip=['count()'],\n",
    ").properties(\n",
    "    title='Activities distribution'\n",
    ")\n",
    "\n",
    "chart"
   ]
  },
  {
   "cell_type": "markdown",
   "metadata": {},
   "source": [
    "![Activities distribution](fig/notebook01/fig01_activities_distribution.png)"
   ]
  },
  {
   "cell_type": "markdown",
   "metadata": {},
   "source": [
    "# Molecular Descriptors\n",
    "\n",
    "After removing invalid and handling duplicated entries, we use Chemistry Development Kit ([CDK v2.2](https://github.com/cdk/cdk)) to calculate molecular descriptors on the resulting dataset.\n",
    "\n",
    "In order to run CDK in Python, we need to establish a bridge with the Java programming language:"
   ]
  },
  {
   "cell_type": "code",
   "execution_count": 7,
   "metadata": {
    "ExecuteTime": {
     "end_time": "2019-02-16T20:24:48.064216Z",
     "start_time": "2019-02-16T20:24:48.049457Z"
    }
   },
   "outputs": [
    {
     "name": "stdout",
     "output_type": "stream",
     "text": [
      "CDK Bridge process running\n"
     ]
    }
   ],
   "source": [
    "java_cdk_bridge = JavaCDKBridge()\n",
    "java_cdk_bridge.start_cdk_java_bridge()"
   ]
  },
  {
   "cell_type": "markdown",
   "metadata": {},
   "source": [
    "Now, we can instantiate classes and manipulate CDK Java objects from within Python:"
   ]
  },
  {
   "cell_type": "code",
   "execution_count": 11,
   "metadata": {
    "ExecuteTime": {
     "end_time": "2019-02-16T20:25:02.077214Z",
     "start_time": "2019-02-16T20:25:02.066238Z"
    }
   },
   "outputs": [
    {
     "data": {
      "text/plain": [
       "JavaObject id=o2"
      ]
     },
     "execution_count": 11,
     "metadata": {},
     "output_type": "execute_result"
    }
   ],
   "source": [
    "gateway = java_cdk_bridge.gateway\n",
    "cdk = gateway.jvm.org.openscience.cdk\n",
    "\n",
    "builder = cdk.DefaultChemObjectBuilder.getInstance()\n",
    "smiles_parser = cdk.smiles.SmilesParser(builder)\n",
    "builder"
   ]
  },
  {
   "cell_type": "code",
   "execution_count": null,
   "metadata": {
    "ExecuteTime": {
     "end_time": "2019-02-16T20:24:27.985233Z",
     "start_time": "2019-02-16T20:24:11.963Z"
    }
   },
   "outputs": [],
   "source": [
    "from py4j.java_gateway import JavaGateway, GatewayParameters\n",
    "JavaGateway(gateway_parameters=GatewayParameters(auto_convert=True))"
   ]
  },
  {
   "cell_type": "markdown",
   "metadata": {},
   "source": [
    "**DESCRIPTORS LIST**\n",
    "\n",
    "For convenience, we saved a list of all molecular descriptors classes in CDK in the `descriptors_list.csv`. "
   ]
  },
  {
   "cell_type": "code",
   "execution_count": null,
   "metadata": {
    "ExecuteTime": {
     "end_time": "2019-02-16T20:24:27.987207Z",
     "start_time": "2019-02-16T20:24:11.965Z"
    },
    "scrolled": true
   },
   "outputs": [],
   "source": [
    "descriptors_list = pd.read_csv('/mnt/data/descriptors_list.csv')\n",
    "\n",
    "def remove_prefix(java_class_name):\n",
    "    return java_class_name.replace('org.openscience.', '') + '()'\n",
    "\n",
    "descriptors_list['object_invocation'] = descriptors_list['descriptorClass'].apply(remove_prefix)\n",
    "descriptors_list"
   ]
  },
  {
   "cell_type": "markdown",
   "metadata": {},
   "source": [
    "We can calculate and combine all molecular descriptors in a DataFrame: "
   ]
  },
  {
   "cell_type": "code",
   "execution_count": null,
   "metadata": {
    "ExecuteTime": {
     "end_time": "2019-02-16T20:24:27.989087Z",
     "start_time": "2019-02-16T20:24:11.968Z"
    }
   },
   "outputs": [],
   "source": [
    "import py4j\n",
    "\n",
    "def calculate_all_descriptors(data, descriptors_df):\n",
    "    mol_container = smiles_parser.parseSmiles(data['canonical_smiles'])\n",
    "    dict_descriptors = {}\n",
    "    for i in range(descriptors_df.shape[0]):\n",
    "        descriptor = eval(descriptors_df.iloc[i]['object_invocation'])\n",
    "        descriptor.initialise(builder)\n",
    "        descriptor_names = [desc_name for desc_name in descriptor.getDescriptorNames()]\n",
    "        try:\n",
    "            descriptor_values = descriptor.calculate(mol_container).getValue().toString().split(',')\n",
    "        except Exception as e:\n",
    "            print(e)\n",
    "        \n",
    "        dict_descriptors.update({descriptor_names[j]: descriptor_values[j] \n",
    "                                 for j in range(len(descriptor_names))})\n",
    "    \n",
    "    result_df = pd.DataFrame(dict_descriptors, index=[data['parent_molecule_chembl_id']])\n",
    "    return result_df\n",
    "\n",
    "pd.concat([\n",
    "    calculate_all_descriptors(preprocessed_df.iloc[1], descriptors_list),\n",
    "    calculate_all_descriptors(preprocessed_df.iloc[0], descriptors_list)], axis=0)"
   ]
  },
  {
   "cell_type": "markdown",
   "metadata": {},
   "source": [
    "\\#TODO: Errors"
   ]
  },
  {
   "cell_type": "code",
   "execution_count": null,
   "metadata": {
    "ExecuteTime": {
     "end_time": "2019-02-16T20:24:27.991194Z",
     "start_time": "2019-02-16T20:24:11.971Z"
    }
   },
   "outputs": [],
   "source": [
    "smiles_parser.parseSmiles(preprocessed_df.iloc[351]['canonical_smiles'])"
   ]
  },
  {
   "cell_type": "code",
   "execution_count": null,
   "metadata": {
    "ExecuteTime": {
     "end_time": "2019-02-16T20:24:27.992686Z",
     "start_time": "2019-02-16T20:24:11.972Z"
    }
   },
   "outputs": [],
   "source": [
    "preprocessed_df.head(10).apply(calculate_all_descriptors, axis=1, descriptors_df=descriptors_list)"
   ]
  },
  {
   "cell_type": "code",
   "execution_count": null,
   "metadata": {
    "ExecuteTime": {
     "end_time": "2019-02-16T20:24:27.994449Z",
     "start_time": "2019-02-16T20:24:11.974Z"
    }
   },
   "outputs": [],
   "source": [
    "py4j.java_gateway.get_field(descriptor, 'CHECK_RING_SYSTEM')"
   ]
  },
  {
   "cell_type": "code",
   "execution_count": null,
   "metadata": {
    "ExecuteTime": {
     "end_time": "2019-02-16T20:24:27.995977Z",
     "start_time": "2019-02-16T20:24:11.977Z"
    }
   },
   "outputs": [],
   "source": [
    "[f for f in descriptor.getParameters()]"
   ]
  },
  {
   "cell_type": "code",
   "execution_count": null,
   "metadata": {
    "ExecuteTime": {
     "end_time": "2019-02-16T20:24:27.997477Z",
     "start_time": "2019-02-16T20:24:11.979Z"
    }
   },
   "outputs": [],
   "source": [
    "gateway.jvm.java.lang.Object()"
   ]
  },
  {
   "cell_type": "code",
   "execution_count": null,
   "metadata": {
    "ExecuteTime": {
     "end_time": "2019-02-16T20:24:27.998901Z",
     "start_time": "2019-02-16T20:24:11.981Z"
    }
   },
   "outputs": [],
   "source": [
    "descriptor.setParameters(['false'])"
   ]
  },
  {
   "cell_type": "code",
   "execution_count": null,
   "metadata": {
    "ExecuteTime": {
     "end_time": "2019-02-16T20:24:28.000243Z",
     "start_time": "2019-02-16T20:24:11.982Z"
    }
   },
   "outputs": [],
   "source": [
    "descriptor = cdk.qsar.descriptors.molecular.LongestAliphaticChainDescriptor()\n",
    "mol_container = smiles_parser.parseSmiles(preprocessed_df.iloc[2]['canonical_smiles'])\n",
    "descriptor.calculate(mol_container).getValue().toString().split(',')"
   ]
  },
  {
   "cell_type": "code",
   "execution_count": null,
   "metadata": {
    "ExecuteTime": {
     "end_time": "2019-02-16T20:24:28.002102Z",
     "start_time": "2019-02-16T20:24:11.984Z"
    }
   },
   "outputs": [],
   "source": [
    "m = Chem.MolFromSmiles(preprocessed_df.iloc[3]['canonical_smiles'])\n",
    "m"
   ]
  },
  {
   "cell_type": "code",
   "execution_count": null,
   "metadata": {
    "ExecuteTime": {
     "end_time": "2019-02-16T20:24:28.003686Z",
     "start_time": "2019-02-16T20:24:11.987Z"
    }
   },
   "outputs": [],
   "source": [
    "AllChem.CalcKappa1(m)"
   ]
  },
  {
   "cell_type": "code",
   "execution_count": null,
   "metadata": {
    "ExecuteTime": {
     "end_time": "2019-02-16T20:24:28.005454Z",
     "start_time": "2019-02-16T20:24:11.989Z"
    }
   },
   "outputs": [],
   "source": [
    "result_df.columns.tolist()"
   ]
  }
 ],
 "metadata": {
  "kernelspec": {
   "display_name": "Python 3",
   "language": "python",
   "name": "python3"
  },
  "language_info": {
   "codemirror_mode": {
    "name": "ipython",
    "version": 3
   },
   "file_extension": ".py",
   "mimetype": "text/x-python",
   "name": "python",
   "nbconvert_exporter": "python",
   "pygments_lexer": "ipython3",
   "version": "3.6.3"
  },
  "toc": {
   "nav_menu": {},
   "number_sections": true,
   "sideBar": true,
   "skip_h1_title": false,
   "title_cell": "Table of Contents",
   "title_sidebar": "Contents",
   "toc_cell": false,
   "toc_position": {},
   "toc_section_display": true,
   "toc_window_display": true
  }
 },
 "nbformat": 4,
 "nbformat_minor": 2
}
