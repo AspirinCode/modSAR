{
 "cells": [
  {
   "cell_type": "code",
   "execution_count": 1,
   "metadata": {
    "ExecuteTime": {
     "end_time": "2019-03-29T14:11:09.440026Z",
     "start_time": "2019-03-29T14:11:06.340038Z"
    }
   },
   "outputs": [],
   "source": [
    "import pandas as pd\n",
    "\n",
    "import warnings\n",
    "warnings.filterwarnings(\"ignore\")\n",
    "\n",
    "from rdkit import Chem\n",
    "from rdkit.Chem import AllChem, Descriptors, Draw\n",
    "from rdkit.Chem.Draw import SimilarityMaps\n",
    "from rdkit.Chem.Draw import IPythonConsole #Needed to show molecules\n",
    "\n",
    "from modSAR.datasource import ChEMBLApiDataSource\n",
    "from modSAR.cdk_utils import JavaCDKBridge\n",
    "\n",
    "%matplotlib inline\n",
    "from plotnine import *"
   ]
  },
  {
   "cell_type": "markdown",
   "metadata": {},
   "source": [
    "# Acquiring Data from ChEMBL\n",
    "\n",
    "The class `ChEMBLApiDataSource` interacts with the [ChEMBL webresource client API](https://github.com/chembl/chembl_webresource_client) to download bioactivities from ChEMBL. \n",
    "\n",
    "We must pass the ID of the target protein and the standard types we are interested in and the class will compile the compounds requested into a pandas DataFrame `bioactivities_df`:"
   ]
  },
  {
   "cell_type": "code",
   "execution_count": 11,
   "metadata": {
    "ExecuteTime": {
     "end_time": "2019-03-29T14:48:39.179713Z",
     "start_time": "2019-03-29T14:48:39.169994Z"
    }
   },
   "outputs": [],
   "source": [
    "from chembl_webresource_client.new_client import new_client\n",
    "activity = new_client.activity\n",
    "result = activity.filter(target_chembl_id='CHEMBL202', assay_type__iregex='(B|F)')"
   ]
  },
  {
   "cell_type": "code",
   "execution_count": 44,
   "metadata": {
    "ExecuteTime": {
     "end_time": "2019-03-29T11:45:02.620103Z",
     "start_time": "2019-03-29T11:45:02.610598Z"
    }
   },
   "outputs": [
    {
     "data": {
      "text/plain": [
       "{'activity_comment': None,\n",
       " 'activity_id': 1958630,\n",
       " 'activity_properties': [],\n",
       " 'assay_chembl_id': 'CHEMBL891091',\n",
       " 'assay_description': 'Inhibition of human NAD kinase at 1 mM',\n",
       " 'assay_type': 'B',\n",
       " 'bao_endpoint': 'BAO_0000201',\n",
       " 'bao_format': 'BAO_0000357',\n",
       " 'bao_label': 'single protein format',\n",
       " 'canonical_smiles': 'BrCC(=O)c1ccncc1',\n",
       " 'data_validity_comment': None,\n",
       " 'data_validity_description': None,\n",
       " 'document_chembl_id': 'CHEMBL1147029',\n",
       " 'document_journal': 'Bioorg. Med. Chem. Lett.',\n",
       " 'document_year': 2007,\n",
       " 'ligand_efficiency': None,\n",
       " 'molecule_chembl_id': 'CHEMBL232633',\n",
       " 'molecule_pref_name': None,\n",
       " 'parent_molecule_chembl_id': 'CHEMBL232633',\n",
       " 'pchembl_value': None,\n",
       " 'potential_duplicate': False,\n",
       " 'qudt_units': 'http://qudt.org/vocab/unit#Percent',\n",
       " 'record_id': 648422,\n",
       " 'relation': '=',\n",
       " 'src_id': 1,\n",
       " 'standard_flag': True,\n",
       " 'standard_relation': '=',\n",
       " 'standard_text_value': None,\n",
       " 'standard_type': 'Inhibition',\n",
       " 'standard_units': '%',\n",
       " 'standard_upper_value': None,\n",
       " 'standard_value': '64',\n",
       " 'target_chembl_id': 'CHEMBL6177',\n",
       " 'target_organism': 'Homo sapiens',\n",
       " 'target_pref_name': 'NAD kinase',\n",
       " 'target_tax_id': '9606',\n",
       " 'text_value': None,\n",
       " 'toid': None,\n",
       " 'type': 'Inhibition',\n",
       " 'units': '%',\n",
       " 'uo_units': 'UO_0000187',\n",
       " 'upper_value': None,\n",
       " 'value': '64'}"
      ]
     },
     "execution_count": 44,
     "metadata": {},
     "output_type": "execute_result"
    }
   ],
   "source": [
    "result[0]"
   ]
  },
  {
   "cell_type": "code",
   "execution_count": 12,
   "metadata": {
    "ExecuteTime": {
     "end_time": "2019-03-29T14:53:47.235181Z",
     "start_time": "2019-03-29T14:48:45.234831Z"
    }
   },
   "outputs": [
    {
     "name": "stdout",
     "output_type": "stream",
     "text": [
      "Progress: |██████████████████████████████████████████████████| 100.0% Complete\n"
     ]
    }
   ],
   "source": [
    "chembl_data_source = ChEMBLApiDataSource(target_id='CHEMBL202', standard_types=['IC50', 'Ki'])"
   ]
  },
  {
   "cell_type": "markdown",
   "metadata": {},
   "source": [
    "In total, the API returned 1500+ bioactivities registered as hDHFR ligands [CHEMBL202](https://www.ebi.ac.uk/chembl/target/inspect/CHEMBL202):"
   ]
  },
  {
   "cell_type": "code",
   "execution_count": 14,
   "metadata": {
    "ExecuteTime": {
     "end_time": "2019-03-29T14:54:02.467246Z",
     "start_time": "2019-03-29T14:54:02.459842Z"
    }
   },
   "outputs": [
    {
     "data": {
      "text/plain": [
       "ChEMBLApiDataSource object\n",
       "  target_id: CHEMBL202\n",
       "  bioactivities: 1580\n",
       "  standard_types: ['Ki' 'IC50' 'Log 1/Ki app' 'IC50/[E]' 'Ratio IC50']"
      ]
     },
     "execution_count": 14,
     "metadata": {},
     "output_type": "execute_result"
    }
   ],
   "source": [
    "chembl_data_source"
   ]
  },
  {
   "cell_type": "markdown",
   "metadata": {},
   "source": [
    "Here is a peak of the data returned from ChEMBL API:"
   ]
  },
  {
   "cell_type": "code",
   "execution_count": 13,
   "metadata": {
    "ExecuteTime": {
     "end_time": "2019-03-29T14:54:00.913232Z",
     "start_time": "2019-03-29T14:54:00.817793Z"
    }
   },
   "outputs": [
    {
     "data": {
      "text/html": [
       "<div>\n",
       "<style scoped>\n",
       "    .dataframe tbody tr th:only-of-type {\n",
       "        vertical-align: middle;\n",
       "    }\n",
       "\n",
       "    .dataframe tbody tr th {\n",
       "        vertical-align: top;\n",
       "    }\n",
       "\n",
       "    .dataframe thead th {\n",
       "        text-align: right;\n",
       "    }\n",
       "</style>\n",
       "<table border=\"1\" class=\"dataframe\">\n",
       "  <thead>\n",
       "    <tr style=\"text-align: right;\">\n",
       "      <th></th>\n",
       "      <th>activity_comment</th>\n",
       "      <th>activity_id</th>\n",
       "      <th>assay_chembl_id</th>\n",
       "      <th>assay_description</th>\n",
       "      <th>assay_type</th>\n",
       "      <th>bao_endpoint</th>\n",
       "      <th>bao_format</th>\n",
       "      <th>bao_label</th>\n",
       "      <th>canonical_smiles</th>\n",
       "      <th>data_validity_comment</th>\n",
       "      <th>data_validity_description</th>\n",
       "      <th>document_chembl_id</th>\n",
       "      <th>document_journal</th>\n",
       "      <th>document_year</th>\n",
       "      <th>molecule_chembl_id</th>\n",
       "      <th>molecule_pref_name</th>\n",
       "      <th>parent_molecule_chembl_id</th>\n",
       "      <th>pchembl_value</th>\n",
       "      <th>potential_duplicate</th>\n",
       "      <th>qudt_units</th>\n",
       "      <th>record_id</th>\n",
       "      <th>relation</th>\n",
       "      <th>src_id</th>\n",
       "      <th>standard_flag</th>\n",
       "      <th>standard_relation</th>\n",
       "      <th>standard_text_value</th>\n",
       "      <th>standard_type</th>\n",
       "      <th>standard_units</th>\n",
       "      <th>standard_upper_value</th>\n",
       "      <th>standard_value</th>\n",
       "      <th>target_chembl_id</th>\n",
       "      <th>target_organism</th>\n",
       "      <th>target_pref_name</th>\n",
       "      <th>target_tax_id</th>\n",
       "      <th>text_value</th>\n",
       "      <th>toid</th>\n",
       "      <th>type</th>\n",
       "      <th>units</th>\n",
       "      <th>uo_units</th>\n",
       "      <th>upper_value</th>\n",
       "      <th>value</th>\n",
       "      <th>ligand_efficiency_bei</th>\n",
       "      <th>ligand_efficiency_le</th>\n",
       "      <th>ligand_efficiency_lle</th>\n",
       "      <th>ligand_efficiency_sei</th>\n",
       "      <th>activity_properties</th>\n",
       "      <th>ligand_efficiency</th>\n",
       "    </tr>\n",
       "  </thead>\n",
       "  <tbody>\n",
       "    <tr>\n",
       "      <th>0</th>\n",
       "      <td>None</td>\n",
       "      <td>40879</td>\n",
       "      <td>CHEMBL858267</td>\n",
       "      <td>Inhibition of human dihydrofolate reductase (D...</td>\n",
       "      <td>B</td>\n",
       "      <td>BAO_0000192</td>\n",
       "      <td>BAO_0000357</td>\n",
       "      <td>single protein format</td>\n",
       "      <td>CC1(C)N=C(N)N=C(N)N1c2cccc(Cl)c2</td>\n",
       "      <td>None</td>\n",
       "      <td>None</td>\n",
       "      <td>CHEMBL1128273</td>\n",
       "      <td>J. Med. Chem.</td>\n",
       "      <td>1995</td>\n",
       "      <td>CHEMBL7130</td>\n",
       "      <td>None</td>\n",
       "      <td>CHEMBL7130</td>\n",
       "      <td>7.03</td>\n",
       "      <td>False</td>\n",
       "      <td>http://www.openphacts.org/units/Nanomolar</td>\n",
       "      <td>347068</td>\n",
       "      <td>=</td>\n",
       "      <td>1</td>\n",
       "      <td>True</td>\n",
       "      <td>=</td>\n",
       "      <td>None</td>\n",
       "      <td>Ki</td>\n",
       "      <td>nM</td>\n",
       "      <td>None</td>\n",
       "      <td>93.33</td>\n",
       "      <td>CHEMBL202</td>\n",
       "      <td>Homo sapiens</td>\n",
       "      <td>Dihydrofolate reductase</td>\n",
       "      <td>9606</td>\n",
       "      <td>None</td>\n",
       "      <td>None</td>\n",
       "      <td>Log 1/Ki</td>\n",
       "      <td>None</td>\n",
       "      <td>UO_0000065</td>\n",
       "      <td>None</td>\n",
       "      <td>7.03</td>\n",
       "      <td>27.93</td>\n",
       "      <td>0.56</td>\n",
       "      <td>5.5</td>\n",
       "      <td>8.79</td>\n",
       "      <td>NaN</td>\n",
       "      <td>NaN</td>\n",
       "    </tr>\n",
       "    <tr>\n",
       "      <th>1</th>\n",
       "      <td>None</td>\n",
       "      <td>42137</td>\n",
       "      <td>CHEMBL858267</td>\n",
       "      <td>Inhibition of human dihydrofolate reductase (D...</td>\n",
       "      <td>B</td>\n",
       "      <td>BAO_0000192</td>\n",
       "      <td>BAO_0000357</td>\n",
       "      <td>single protein format</td>\n",
       "      <td>CC1(C)N=C(N)N=C(N)N1c2ccc(CCCCc3ccc(cc3Cl)S(=O...</td>\n",
       "      <td>None</td>\n",
       "      <td>None</td>\n",
       "      <td>CHEMBL1128273</td>\n",
       "      <td>J. Med. Chem.</td>\n",
       "      <td>1995</td>\n",
       "      <td>CHEMBL33697</td>\n",
       "      <td>None</td>\n",
       "      <td>CHEMBL33697</td>\n",
       "      <td>7.65</td>\n",
       "      <td>False</td>\n",
       "      <td>http://www.openphacts.org/units/Nanomolar</td>\n",
       "      <td>347071</td>\n",
       "      <td>=</td>\n",
       "      <td>1</td>\n",
       "      <td>True</td>\n",
       "      <td>=</td>\n",
       "      <td>None</td>\n",
       "      <td>Ki</td>\n",
       "      <td>nM</td>\n",
       "      <td>None</td>\n",
       "      <td>22.39</td>\n",
       "      <td>CHEMBL202</td>\n",
       "      <td>Homo sapiens</td>\n",
       "      <td>Dihydrofolate reductase</td>\n",
       "      <td>9606</td>\n",
       "      <td>None</td>\n",
       "      <td>None</td>\n",
       "      <td>Log 1/Ki</td>\n",
       "      <td>None</td>\n",
       "      <td>UO_0000065</td>\n",
       "      <td>None</td>\n",
       "      <td>7.65</td>\n",
       "      <td>15.29</td>\n",
       "      <td>0.33</td>\n",
       "      <td>3.25</td>\n",
       "      <td>6.7</td>\n",
       "      <td>NaN</td>\n",
       "      <td>NaN</td>\n",
       "    </tr>\n",
       "    <tr>\n",
       "      <th>2</th>\n",
       "      <td>None</td>\n",
       "      <td>42149</td>\n",
       "      <td>CHEMBL858267</td>\n",
       "      <td>Inhibition of human dihydrofolate reductase (D...</td>\n",
       "      <td>B</td>\n",
       "      <td>BAO_0000192</td>\n",
       "      <td>BAO_0000357</td>\n",
       "      <td>single protein format</td>\n",
       "      <td>CC1(C)N=C(N)N=C(N)N1c2cccc(OCC34CC5CC(CC(C5)C3...</td>\n",
       "      <td>None</td>\n",
       "      <td>None</td>\n",
       "      <td>CHEMBL1128273</td>\n",
       "      <td>J. Med. Chem.</td>\n",
       "      <td>1995</td>\n",
       "      <td>CHEMBL281618</td>\n",
       "      <td>None</td>\n",
       "      <td>CHEMBL281618</td>\n",
       "      <td>6.11</td>\n",
       "      <td>False</td>\n",
       "      <td>http://www.openphacts.org/units/Nanomolar</td>\n",
       "      <td>347091</td>\n",
       "      <td>=</td>\n",
       "      <td>1</td>\n",
       "      <td>True</td>\n",
       "      <td>=</td>\n",
       "      <td>None</td>\n",
       "      <td>Ki</td>\n",
       "      <td>nM</td>\n",
       "      <td>None</td>\n",
       "      <td>776.25</td>\n",
       "      <td>CHEMBL202</td>\n",
       "      <td>Homo sapiens</td>\n",
       "      <td>Dihydrofolate reductase</td>\n",
       "      <td>9606</td>\n",
       "      <td>None</td>\n",
       "      <td>None</td>\n",
       "      <td>Log 1/Ki</td>\n",
       "      <td>None</td>\n",
       "      <td>UO_0000065</td>\n",
       "      <td>None</td>\n",
       "      <td>6.11</td>\n",
       "      <td>16.01</td>\n",
       "      <td>0.3</td>\n",
       "      <td>2.64</td>\n",
       "      <td>6.85</td>\n",
       "      <td>NaN</td>\n",
       "      <td>NaN</td>\n",
       "    </tr>\n",
       "    <tr>\n",
       "      <th>3</th>\n",
       "      <td>None</td>\n",
       "      <td>45682</td>\n",
       "      <td>CHEMBL858267</td>\n",
       "      <td>Inhibition of human dihydrofolate reductase (D...</td>\n",
       "      <td>B</td>\n",
       "      <td>BAO_0000192</td>\n",
       "      <td>BAO_0000357</td>\n",
       "      <td>single protein format</td>\n",
       "      <td>COc1cc(Cc2cnc(N)nc2N)cc(OC)c1OC</td>\n",
       "      <td>None</td>\n",
       "      <td>None</td>\n",
       "      <td>CHEMBL1128273</td>\n",
       "      <td>J. Med. Chem.</td>\n",
       "      <td>1995</td>\n",
       "      <td>CHEMBL22</td>\n",
       "      <td>TRIMETHOPRIM</td>\n",
       "      <td>CHEMBL22</td>\n",
       "      <td>6.71</td>\n",
       "      <td>False</td>\n",
       "      <td>http://www.openphacts.org/units/Nanomolar</td>\n",
       "      <td>347106</td>\n",
       "      <td>=</td>\n",
       "      <td>1</td>\n",
       "      <td>True</td>\n",
       "      <td>=</td>\n",
       "      <td>None</td>\n",
       "      <td>Ki</td>\n",
       "      <td>nM</td>\n",
       "      <td>None</td>\n",
       "      <td>194.98</td>\n",
       "      <td>CHEMBL202</td>\n",
       "      <td>Homo sapiens</td>\n",
       "      <td>Dihydrofolate reductase</td>\n",
       "      <td>9606</td>\n",
       "      <td>None</td>\n",
       "      <td>None</td>\n",
       "      <td>Log 1/Ki</td>\n",
       "      <td>None</td>\n",
       "      <td>UO_0000065</td>\n",
       "      <td>None</td>\n",
       "      <td>6.71</td>\n",
       "      <td>23.11</td>\n",
       "      <td>0.44</td>\n",
       "      <td>5.45</td>\n",
       "      <td>6.36</td>\n",
       "      <td>NaN</td>\n",
       "      <td>NaN</td>\n",
       "    </tr>\n",
       "    <tr>\n",
       "      <th>4</th>\n",
       "      <td>None</td>\n",
       "      <td>46931</td>\n",
       "      <td>CHEMBL666808</td>\n",
       "      <td>Inhibition of human dihydrofolate reductase (D...</td>\n",
       "      <td>B</td>\n",
       "      <td>BAO_0000192</td>\n",
       "      <td>BAO_0000357</td>\n",
       "      <td>single protein format</td>\n",
       "      <td>CC1(C)N=C(N)N=C(N)N1c2cccc(SCc3ccccc3)c2</td>\n",
       "      <td>None</td>\n",
       "      <td>None</td>\n",
       "      <td>CHEMBL1128273</td>\n",
       "      <td>J. Med. Chem.</td>\n",
       "      <td>1995</td>\n",
       "      <td>CHEMBL20975</td>\n",
       "      <td>None</td>\n",
       "      <td>CHEMBL20975</td>\n",
       "      <td>7.37</td>\n",
       "      <td>False</td>\n",
       "      <td>http://www.openphacts.org/units/Nanomolar</td>\n",
       "      <td>347115</td>\n",
       "      <td>=</td>\n",
       "      <td>1</td>\n",
       "      <td>True</td>\n",
       "      <td>=</td>\n",
       "      <td>None</td>\n",
       "      <td>Ki</td>\n",
       "      <td>nM</td>\n",
       "      <td>None</td>\n",
       "      <td>42.66</td>\n",
       "      <td>CHEMBL202</td>\n",
       "      <td>Homo sapiens</td>\n",
       "      <td>Dihydrofolate reductase</td>\n",
       "      <td>9606</td>\n",
       "      <td>None</td>\n",
       "      <td>None</td>\n",
       "      <td>Log 1/Ki</td>\n",
       "      <td>None</td>\n",
       "      <td>UO_0000065</td>\n",
       "      <td>None</td>\n",
       "      <td>7.37</td>\n",
       "      <td>21.71</td>\n",
       "      <td>0.42</td>\n",
       "      <td>4.21</td>\n",
       "      <td>9.21</td>\n",
       "      <td>NaN</td>\n",
       "      <td>NaN</td>\n",
       "    </tr>\n",
       "  </tbody>\n",
       "</table>\n",
       "</div>"
      ],
      "text/plain": [
       "  activity_comment        ...        ligand_efficiency\n",
       "0             None        ...                      NaN\n",
       "1             None        ...                      NaN\n",
       "2             None        ...                      NaN\n",
       "3             None        ...                      NaN\n",
       "4             None        ...                      NaN\n",
       "\n",
       "[5 rows x 47 columns]"
      ]
     },
     "execution_count": 13,
     "metadata": {},
     "output_type": "execute_result"
    }
   ],
   "source": [
    "chembl_data_source.bioactivities_df.head()"
   ]
  },
  {
   "cell_type": "markdown",
   "metadata": {},
   "source": [
    "The distribution of standard activity types in the data set:"
   ]
  },
  {
   "cell_type": "code",
   "execution_count": 15,
   "metadata": {
    "ExecuteTime": {
     "end_time": "2019-03-29T14:54:05.534693Z",
     "start_time": "2019-03-29T14:54:05.521762Z"
    },
    "scrolled": true
   },
   "outputs": [
    {
     "data": {
      "text/plain": [
       "IC50            1127\n",
       "Ki               405\n",
       "Log 1/Ki app      38\n",
       "IC50/[E]           8\n",
       "Ratio IC50         2\n",
       "Name: standard_type, dtype: int64"
      ]
     },
     "execution_count": 15,
     "metadata": {},
     "output_type": "execute_result"
    }
   ],
   "source": [
    "chembl_data_source.bioactivities_df['standard_type'].value_counts()"
   ]
  },
  {
   "cell_type": "code",
   "execution_count": 16,
   "metadata": {
    "ExecuteTime": {
     "end_time": "2019-03-29T14:54:08.111715Z",
     "start_time": "2019-03-29T14:54:07.295550Z"
    }
   },
   "outputs": [
    {
     "data": {
      "image/png": "[encoded data removed]",
      "text/plain": [
       "<Figure size 640x480 with 1 Axes>"
      ]
     },
     "metadata": {},
     "output_type": "display_data"
    },
    {
     "data": {
      "text/plain": [
       "<ggplot: (8746091867063)>"
      ]
     },
     "execution_count": 16,
     "metadata": {},
     "output_type": "execute_result"
    }
   ],
   "source": [
    "plot_df = chembl_data_source.bioactivities_df\n",
    "plot_df['document_year'] = plot_df['document_year'].astype('int')\n",
    "\n",
    "ggplot(plot_df, aes(x='document_year')) + \\\n",
    "    geom_bar() + theme_light() + \\\n",
    "    scale_x_continuous(breaks=range(min(plot_df['document_year']), max(plot_df['document_year']) + 1)) + \\\n",
    "    xlab(\"Document Year\") + ylab(\"Number of records\") + \\\n",
    "    ggtitle(\"Number of records per year\")"
   ]
  },
  {
   "cell_type": "code",
   "execution_count": 17,
   "metadata": {
    "ExecuteTime": {
     "end_time": "2019-03-29T14:54:11.544342Z",
     "start_time": "2019-03-29T14:54:11.529237Z"
    }
   },
   "outputs": [
    {
     "data": {
      "text/plain": [
       "J. Med. Chem.                    989\n",
       "Bioorg. Med. Chem.               165\n",
       "Bioorg. Med. Chem. Lett.         135\n",
       "Eur J Med Chem                    78\n",
       "Eur. J. Med. Chem.                65\n",
       "Antimicrob. Agents Chemother.     22\n",
       "J Med Chem                        20\n",
       "Med Chem Res                      12\n",
       "ACS Med. Chem. Lett.              12\n",
       "MedChemComm                        7\n",
       "Bioorg Med Chem Lett               7\n",
       "J. Nat. Prod.                      1\n",
       "Name: document_journal, dtype: int64"
      ]
     },
     "execution_count": 17,
     "metadata": {},
     "output_type": "execute_result"
    }
   ],
   "source": [
    "chembl_data_source.bioactivities_df['document_journal'].value_counts()"
   ]
  },
  {
   "cell_type": "markdown",
   "metadata": {
    "ExecuteTime": {
     "end_time": "2019-03-29T11:33:10.682228Z",
     "start_time": "2019-03-29T11:33:10.679505Z"
    }
   },
   "source": [
    "# Reading Molecules with RDKit"
   ]
  },
  {
   "cell_type": "code",
   "execution_count": 18,
   "metadata": {
    "ExecuteTime": {
     "end_time": "2019-03-29T14:54:13.879174Z",
     "start_time": "2019-03-29T14:54:13.872115Z"
    }
   },
   "outputs": [
    {
     "data": {
      "text/plain": [
       "'CC1(C)N=C(N)N=C(N)N1c2cccc(Cl)c2'"
      ]
     },
     "execution_count": 18,
     "metadata": {},
     "output_type": "execute_result"
    }
   ],
   "source": [
    "chembl_data_source.bioactivities_df.iloc[0]['canonical_smiles']"
   ]
  },
  {
   "cell_type": "code",
   "execution_count": 19,
   "metadata": {
    "ExecuteTime": {
     "end_time": "2019-03-29T14:54:15.618493Z",
     "start_time": "2019-03-29T14:54:15.583824Z"
    }
   },
   "outputs": [
    {
     "data": {
      "image/png": "[encoded data removed]",
      "text/plain": [
       "<rdkit.Chem.rdchem.Mol at 0x7f45ba651030>"
      ]
     },
     "execution_count": 19,
     "metadata": {},
     "output_type": "execute_result"
    }
   ],
   "source": [
    "m = Chem.MolFromSmiles(chembl_data_source.bioactivities_df.iloc[0]['canonical_smiles'])\n",
    "m"
   ]
  },
  {
   "cell_type": "markdown",
   "metadata": {},
   "source": [
    "## Molecular Descriptors"
   ]
  },
  {
   "cell_type": "code",
   "execution_count": 32,
   "metadata": {
    "ExecuteTime": {
     "end_time": "2019-03-29T12:20:44.436540Z",
     "start_time": "2019-03-29T12:20:44.429857Z"
    },
    "scrolled": true
   },
   "outputs": [
    {
     "data": {
      "text/plain": [
       "['BalabanJ',\n",
       " 'BertzCT',\n",
       " 'Chem',\n",
       " 'Chi0',\n",
       " 'Chi0n',\n",
       " 'Chi0v',\n",
       " 'Chi1',\n",
       " 'Chi1n',\n",
       " 'Chi1v',\n",
       " 'Chi2n',\n",
       " 'Chi2v',\n",
       " 'Chi3n',\n",
       " 'Chi3v',\n",
       " 'Chi4n',\n",
       " 'Chi4v',\n",
       " 'EState_VSA1',\n",
       " 'EState_VSA10',\n",
       " 'EState_VSA11',\n",
       " 'EState_VSA2',\n",
       " 'EState_VSA3',\n",
       " 'EState_VSA4',\n",
       " 'EState_VSA5',\n",
       " 'EState_VSA6',\n",
       " 'EState_VSA7',\n",
       " 'EState_VSA8',\n",
       " 'EState_VSA9',\n",
       " 'ExactMolWt',\n",
       " 'FpDensityMorgan1',\n",
       " 'FpDensityMorgan2',\n",
       " 'FpDensityMorgan3',\n",
       " 'FractionCSP3',\n",
       " 'HallKierAlpha',\n",
       " 'HeavyAtomCount',\n",
       " 'HeavyAtomMolWt',\n",
       " 'Ipc',\n",
       " 'Kappa1',\n",
       " 'Kappa2',\n",
       " 'Kappa3',\n",
       " 'LabuteASA',\n",
       " 'MaxAbsEStateIndex',\n",
       " 'MaxAbsPartialCharge',\n",
       " 'MaxEStateIndex',\n",
       " 'MaxPartialCharge',\n",
       " 'MinAbsEStateIndex',\n",
       " 'MinAbsPartialCharge',\n",
       " 'MinEStateIndex',\n",
       " 'MinPartialCharge',\n",
       " 'MolLogP',\n",
       " 'MolMR',\n",
       " 'MolWt',\n",
       " 'NHOHCount',\n",
       " 'NOCount',\n",
       " 'NumAliphaticCarbocycles',\n",
       " 'NumAliphaticHeterocycles',\n",
       " 'NumAliphaticRings',\n",
       " 'NumAromaticCarbocycles',\n",
       " 'NumAromaticHeterocycles',\n",
       " 'NumAromaticRings',\n",
       " 'NumHAcceptors',\n",
       " 'NumHDonors',\n",
       " 'NumHeteroatoms',\n",
       " 'NumRadicalElectrons',\n",
       " 'NumRotatableBonds',\n",
       " 'NumSaturatedCarbocycles',\n",
       " 'NumSaturatedHeterocycles',\n",
       " 'NumSaturatedRings',\n",
       " 'NumValenceElectrons',\n",
       " 'PEOE_VSA1',\n",
       " 'PEOE_VSA10',\n",
       " 'PEOE_VSA11',\n",
       " 'PEOE_VSA12',\n",
       " 'PEOE_VSA13',\n",
       " 'PEOE_VSA14',\n",
       " 'PEOE_VSA2',\n",
       " 'PEOE_VSA3',\n",
       " 'PEOE_VSA4',\n",
       " 'PEOE_VSA5',\n",
       " 'PEOE_VSA6',\n",
       " 'PEOE_VSA7',\n",
       " 'PEOE_VSA8',\n",
       " 'PEOE_VSA9',\n",
       " 'PropertyFunctor',\n",
       " 'RingCount',\n",
       " 'SMR_VSA1',\n",
       " 'SMR_VSA10',\n",
       " 'SMR_VSA2',\n",
       " 'SMR_VSA3',\n",
       " 'SMR_VSA4',\n",
       " 'SMR_VSA5',\n",
       " 'SMR_VSA6',\n",
       " 'SMR_VSA7',\n",
       " 'SMR_VSA8',\n",
       " 'SMR_VSA9',\n",
       " 'SlogP_VSA1',\n",
       " 'SlogP_VSA10',\n",
       " 'SlogP_VSA11',\n",
       " 'SlogP_VSA12',\n",
       " 'SlogP_VSA2',\n",
       " 'SlogP_VSA3',\n",
       " 'SlogP_VSA4',\n",
       " 'SlogP_VSA5',\n",
       " 'SlogP_VSA6',\n",
       " 'SlogP_VSA7',\n",
       " 'SlogP_VSA8',\n",
       " 'SlogP_VSA9',\n",
       " 'TPSA',\n",
       " 'VSA_EState1',\n",
       " 'VSA_EState10',\n",
       " 'VSA_EState2',\n",
       " 'VSA_EState3',\n",
       " 'VSA_EState4',\n",
       " 'VSA_EState5',\n",
       " 'VSA_EState6',\n",
       " 'VSA_EState7',\n",
       " 'VSA_EState8',\n",
       " 'VSA_EState9',\n",
       " '_ChargeDescriptors',\n",
       " '_FingerprintDensity',\n",
       " '__builtins__',\n",
       " '__cached__',\n",
       " '__doc__',\n",
       " '__file__',\n",
       " '__loader__',\n",
       " '__name__',\n",
       " '__package__',\n",
       " '__spec__',\n",
       " '_descList',\n",
       " '_du',\n",
       " '_isCallable',\n",
       " '_rdMolDescriptors',\n",
       " '_runDoctests',\n",
       " '_setupDescriptors',\n",
       " 'collections',\n",
       " 'descList',\n",
       " 'fr_Al_COO',\n",
       " 'fr_Al_OH',\n",
       " 'fr_Al_OH_noTert',\n",
       " 'fr_ArN',\n",
       " 'fr_Ar_COO',\n",
       " 'fr_Ar_N',\n",
       " 'fr_Ar_NH',\n",
       " 'fr_Ar_OH',\n",
       " 'fr_COO',\n",
       " 'fr_COO2',\n",
       " 'fr_C_O',\n",
       " 'fr_C_O_noCOO',\n",
       " 'fr_C_S',\n",
       " 'fr_HOCCN',\n",
       " 'fr_Imine',\n",
       " 'fr_NH0',\n",
       " 'fr_NH1',\n",
       " 'fr_NH2',\n",
       " 'fr_N_O',\n",
       " 'fr_Ndealkylation1',\n",
       " 'fr_Ndealkylation2',\n",
       " 'fr_Nhpyrrole',\n",
       " 'fr_SH',\n",
       " 'fr_aldehyde',\n",
       " 'fr_alkyl_carbamate',\n",
       " 'fr_alkyl_halide',\n",
       " 'fr_allylic_oxid',\n",
       " 'fr_amide',\n",
       " 'fr_amidine',\n",
       " 'fr_aniline',\n",
       " 'fr_aryl_methyl',\n",
       " 'fr_azide',\n",
       " 'fr_azo',\n",
       " 'fr_barbitur',\n",
       " 'fr_benzene',\n",
       " 'fr_benzodiazepine',\n",
       " 'fr_bicyclic',\n",
       " 'fr_diazo',\n",
       " 'fr_dihydropyridine',\n",
       " 'fr_epoxide',\n",
       " 'fr_ester',\n",
       " 'fr_ether',\n",
       " 'fr_furan',\n",
       " 'fr_guanido',\n",
       " 'fr_halogen',\n",
       " 'fr_hdrzine',\n",
       " 'fr_hdrzone',\n",
       " 'fr_imidazole',\n",
       " 'fr_imide',\n",
       " 'fr_isocyan',\n",
       " 'fr_isothiocyan',\n",
       " 'fr_ketone',\n",
       " 'fr_ketone_Topliss',\n",
       " 'fr_lactam',\n",
       " 'fr_lactone',\n",
       " 'fr_methoxy',\n",
       " 'fr_morpholine',\n",
       " 'fr_nitrile',\n",
       " 'fr_nitro',\n",
       " 'fr_nitro_arom',\n",
       " 'fr_nitro_arom_nonortho',\n",
       " 'fr_nitroso',\n",
       " 'fr_oxazole',\n",
       " 'fr_oxime',\n",
       " 'fr_para_hydroxylation',\n",
       " 'fr_phenol',\n",
       " 'fr_phenol_noOrthoHbond',\n",
       " 'fr_phos_acid',\n",
       " 'fr_phos_ester',\n",
       " 'fr_piperdine',\n",
       " 'fr_piperzine',\n",
       " 'fr_priamide',\n",
       " 'fr_prisulfonamd',\n",
       " 'fr_pyridine',\n",
       " 'fr_quatN',\n",
       " 'fr_sulfide',\n",
       " 'fr_sulfonamd',\n",
       " 'fr_sulfone',\n",
       " 'fr_term_acetylene',\n",
       " 'fr_tetrazole',\n",
       " 'fr_thiazole',\n",
       " 'fr_thiocyan',\n",
       " 'fr_thiophene',\n",
       " 'fr_unbrch_alkane',\n",
       " 'fr_urea',\n",
       " 'qed',\n",
       " 'rdMolDescriptors',\n",
       " 'rdPartialCharges']"
      ]
     },
     "execution_count": 32,
     "metadata": {},
     "output_type": "execute_result"
    }
   ],
   "source": [
    "dir(Chem.Descriptors)"
   ]
  },
  {
   "cell_type": "code",
   "execution_count": 21,
   "metadata": {
    "ExecuteTime": {
     "end_time": "2019-03-29T14:54:30.060358Z",
     "start_time": "2019-03-29T14:54:27.914497Z"
    }
   },
   "outputs": [
    {
     "data": {
      "text/html": [
       "<div>\n",
       "<style scoped>\n",
       "    .dataframe tbody tr th:only-of-type {\n",
       "        vertical-align: middle;\n",
       "    }\n",
       "\n",
       "    .dataframe tbody tr th {\n",
       "        vertical-align: top;\n",
       "    }\n",
       "\n",
       "    .dataframe thead th {\n",
       "        text-align: right;\n",
       "    }\n",
       "</style>\n",
       "<table border=\"1\" class=\"dataframe\">\n",
       "  <thead>\n",
       "    <tr style=\"text-align: right;\">\n",
       "      <th></th>\n",
       "      <th>heavyAtomCount</th>\n",
       "      <th>ExactMolWt</th>\n",
       "      <th>MolLogP</th>\n",
       "      <th>pchembl_value</th>\n",
       "    </tr>\n",
       "    <tr>\n",
       "      <th>parent_molecule_chembl_id</th>\n",
       "      <th></th>\n",
       "      <th></th>\n",
       "      <th></th>\n",
       "      <th></th>\n",
       "    </tr>\n",
       "  </thead>\n",
       "  <tbody>\n",
       "    <tr>\n",
       "      <th>CHEMBL7130</th>\n",
       "      <td>17.0</td>\n",
       "      <td>251.093773</td>\n",
       "      <td>1.52550</td>\n",
       "      <td>7.03</td>\n",
       "    </tr>\n",
       "    <tr>\n",
       "      <th>CHEMBL33697</th>\n",
       "      <td>32.0</td>\n",
       "      <td>499.101180</td>\n",
       "      <td>4.40250</td>\n",
       "      <td>7.65</td>\n",
       "    </tr>\n",
       "    <tr>\n",
       "      <th>CHEMBL281618</th>\n",
       "      <td>28.0</td>\n",
       "      <td>381.252861</td>\n",
       "      <td>3.46730</td>\n",
       "      <td>6.11</td>\n",
       "    </tr>\n",
       "    <tr>\n",
       "      <th>CHEMBL22</th>\n",
       "      <td>21.0</td>\n",
       "      <td>290.137890</td>\n",
       "      <td>1.25760</td>\n",
       "      <td>6.71</td>\n",
       "    </tr>\n",
       "    <tr>\n",
       "      <th>CHEMBL20975</th>\n",
       "      <td>24.0</td>\n",
       "      <td>339.151767</td>\n",
       "      <td>3.16440</td>\n",
       "      <td>7.37</td>\n",
       "    </tr>\n",
       "    <tr>\n",
       "      <th>CHEMBL20587</th>\n",
       "      <td>25.0</td>\n",
       "      <td>343.273596</td>\n",
       "      <td>4.16520</td>\n",
       "      <td>6.66</td>\n",
       "    </tr>\n",
       "    <tr>\n",
       "      <th>CHEMBL6742</th>\n",
       "      <td>16.0</td>\n",
       "      <td>217.132745</td>\n",
       "      <td>0.87210</td>\n",
       "      <td>5.78</td>\n",
       "    </tr>\n",
       "    <tr>\n",
       "      <th>CHEMBL176987</th>\n",
       "      <td>24.0</td>\n",
       "      <td>329.257946</td>\n",
       "      <td>3.77510</td>\n",
       "      <td>6.01</td>\n",
       "    </tr>\n",
       "    <tr>\n",
       "      <th>CHEMBL21254</th>\n",
       "      <td>28.0</td>\n",
       "      <td>385.320546</td>\n",
       "      <td>5.33550</td>\n",
       "      <td>6.52</td>\n",
       "    </tr>\n",
       "    <tr>\n",
       "      <th>CHEMBL20466</th>\n",
       "      <td>28.0</td>\n",
       "      <td>373.190260</td>\n",
       "      <td>3.60430</td>\n",
       "      <td>6.87</td>\n",
       "    </tr>\n",
       "    <tr>\n",
       "      <th>CHEMBL280378</th>\n",
       "      <td>26.0</td>\n",
       "      <td>353.185175</td>\n",
       "      <td>2.81990</td>\n",
       "      <td>7.23</td>\n",
       "    </tr>\n",
       "    <tr>\n",
       "      <th>CHEMBL6666</th>\n",
       "      <td>30.0</td>\n",
       "      <td>428.172752</td>\n",
       "      <td>2.80630</td>\n",
       "      <td>7.11</td>\n",
       "    </tr>\n",
       "    <tr>\n",
       "      <th>CHEMBL25817</th>\n",
       "      <td>20.0</td>\n",
       "      <td>272.163711</td>\n",
       "      <td>2.06220</td>\n",
       "      <td>6.92</td>\n",
       "    </tr>\n",
       "    <tr>\n",
       "      <th>CHEMBL277176</th>\n",
       "      <td>24.0</td>\n",
       "      <td>328.226312</td>\n",
       "      <td>3.53240</td>\n",
       "      <td>7.21</td>\n",
       "    </tr>\n",
       "    <tr>\n",
       "      <th>CHEMBL279455</th>\n",
       "      <td>22.0</td>\n",
       "      <td>300.195011</td>\n",
       "      <td>2.75530</td>\n",
       "      <td>7.36</td>\n",
       "    </tr>\n",
       "    <tr>\n",
       "      <th>CHEMBL23338</th>\n",
       "      <td>22.0</td>\n",
       "      <td>300.158626</td>\n",
       "      <td>2.28210</td>\n",
       "      <td>7.03</td>\n",
       "    </tr>\n",
       "    <tr>\n",
       "      <th>CHEMBL36083</th>\n",
       "      <td>32.0</td>\n",
       "      <td>439.208036</td>\n",
       "      <td>0.14250</td>\n",
       "      <td>8.6</td>\n",
       "    </tr>\n",
       "    <tr>\n",
       "      <th>CHEMBL36083</th>\n",
       "      <td>32.0</td>\n",
       "      <td>439.208036</td>\n",
       "      <td>0.14250</td>\n",
       "      <td>9</td>\n",
       "    </tr>\n",
       "    <tr>\n",
       "      <th>CHEMBL22</th>\n",
       "      <td>21.0</td>\n",
       "      <td>290.137890</td>\n",
       "      <td>1.25760</td>\n",
       "      <td>6.35</td>\n",
       "    </tr>\n",
       "    <tr>\n",
       "      <th>CHEMBL34259</th>\n",
       "      <td>33.0</td>\n",
       "      <td>454.171316</td>\n",
       "      <td>0.26840</td>\n",
       "      <td>9.09</td>\n",
       "    </tr>\n",
       "    <tr>\n",
       "      <th>CHEMBL22</th>\n",
       "      <td>21.0</td>\n",
       "      <td>290.137890</td>\n",
       "      <td>1.25760</td>\n",
       "      <td>None</td>\n",
       "    </tr>\n",
       "    <tr>\n",
       "      <th>CHEMBL61708</th>\n",
       "      <td>31.0</td>\n",
       "      <td>428.144432</td>\n",
       "      <td>0.90560</td>\n",
       "      <td>5</td>\n",
       "    </tr>\n",
       "    <tr>\n",
       "      <th>CHEMBL282022</th>\n",
       "      <td>22.0</td>\n",
       "      <td>300.158626</td>\n",
       "      <td>1.97750</td>\n",
       "      <td>6.96</td>\n",
       "    </tr>\n",
       "    <tr>\n",
       "      <th>CHEMBL225072</th>\n",
       "      <td>31.0</td>\n",
       "      <td>427.149183</td>\n",
       "      <td>0.66640</td>\n",
       "      <td>5.64</td>\n",
       "    </tr>\n",
       "    <tr>\n",
       "      <th>CHEMBL34918</th>\n",
       "      <td>35.0</td>\n",
       "      <td>478.160082</td>\n",
       "      <td>1.49558</td>\n",
       "      <td>6.34</td>\n",
       "    </tr>\n",
       "    <tr>\n",
       "      <th>CHEMBL23447</th>\n",
       "      <td>20.0</td>\n",
       "      <td>272.163711</td>\n",
       "      <td>2.11122</td>\n",
       "      <td>6.51</td>\n",
       "    </tr>\n",
       "    <tr>\n",
       "      <th>CHEMBL278345</th>\n",
       "      <td>22.0</td>\n",
       "      <td>302.174276</td>\n",
       "      <td>2.20150</td>\n",
       "      <td>7.17</td>\n",
       "    </tr>\n",
       "    <tr>\n",
       "      <th>CHEMBL83644</th>\n",
       "      <td>34.0</td>\n",
       "      <td>475.189192</td>\n",
       "      <td>0.38770</td>\n",
       "      <td>8.89</td>\n",
       "    </tr>\n",
       "    <tr>\n",
       "      <th>CHEMBL34259</th>\n",
       "      <td>33.0</td>\n",
       "      <td>454.171316</td>\n",
       "      <td>0.26840</td>\n",
       "      <td>8.92</td>\n",
       "    </tr>\n",
       "    <tr>\n",
       "      <th>CHEMBL119</th>\n",
       "      <td>27.0</td>\n",
       "      <td>369.180090</td>\n",
       "      <td>2.74052</td>\n",
       "      <td>7.05</td>\n",
       "    </tr>\n",
       "    <tr>\n",
       "      <th>...</th>\n",
       "      <td>...</td>\n",
       "      <td>...</td>\n",
       "      <td>...</td>\n",
       "      <td>...</td>\n",
       "    </tr>\n",
       "    <tr>\n",
       "      <th>CHEMBL4116069</th>\n",
       "      <td>31.0</td>\n",
       "      <td>443.172417</td>\n",
       "      <td>2.99600</td>\n",
       "      <td>7.85</td>\n",
       "    </tr>\n",
       "    <tr>\n",
       "      <th>CHEMBL4117001</th>\n",
       "      <td>31.0</td>\n",
       "      <td>443.172417</td>\n",
       "      <td>2.99600</td>\n",
       "      <td>7.27</td>\n",
       "    </tr>\n",
       "    <tr>\n",
       "      <th>CHEMBL4117265</th>\n",
       "      <td>31.0</td>\n",
       "      <td>443.172417</td>\n",
       "      <td>2.99600</td>\n",
       "      <td>7.23</td>\n",
       "    </tr>\n",
       "    <tr>\n",
       "      <th>CHEMBL4117071</th>\n",
       "      <td>32.0</td>\n",
       "      <td>457.188067</td>\n",
       "      <td>3.38610</td>\n",
       "      <td>8.04</td>\n",
       "    </tr>\n",
       "    <tr>\n",
       "      <th>CHEMBL4116874</th>\n",
       "      <td>32.0</td>\n",
       "      <td>457.188067</td>\n",
       "      <td>3.38610</td>\n",
       "      <td>8.05</td>\n",
       "    </tr>\n",
       "    <tr>\n",
       "      <th>CHEMBL4116786</th>\n",
       "      <td>32.0</td>\n",
       "      <td>457.188067</td>\n",
       "      <td>3.38610</td>\n",
       "      <td>8.19</td>\n",
       "    </tr>\n",
       "    <tr>\n",
       "      <th>CHEMBL4116722</th>\n",
       "      <td>32.0</td>\n",
       "      <td>457.188067</td>\n",
       "      <td>3.38610</td>\n",
       "      <td>8.49</td>\n",
       "    </tr>\n",
       "    <tr>\n",
       "      <th>CHEMBL4117918</th>\n",
       "      <td>33.0</td>\n",
       "      <td>471.203717</td>\n",
       "      <td>3.77620</td>\n",
       "      <td>8.47</td>\n",
       "    </tr>\n",
       "    <tr>\n",
       "      <th>CHEMBL4117390</th>\n",
       "      <td>33.0</td>\n",
       "      <td>471.203717</td>\n",
       "      <td>3.77620</td>\n",
       "      <td>8.38</td>\n",
       "    </tr>\n",
       "    <tr>\n",
       "      <th>CHEMBL4117002</th>\n",
       "      <td>33.0</td>\n",
       "      <td>471.203717</td>\n",
       "      <td>3.77620</td>\n",
       "      <td>8.4</td>\n",
       "    </tr>\n",
       "    <tr>\n",
       "      <th>CHEMBL4116030</th>\n",
       "      <td>33.0</td>\n",
       "      <td>471.203717</td>\n",
       "      <td>3.77620</td>\n",
       "      <td>8.32</td>\n",
       "    </tr>\n",
       "    <tr>\n",
       "      <th>CHEMBL4116198</th>\n",
       "      <td>33.0</td>\n",
       "      <td>469.188067</td>\n",
       "      <td>3.53020</td>\n",
       "      <td>7.88</td>\n",
       "    </tr>\n",
       "    <tr>\n",
       "      <th>CHEMBL4117533</th>\n",
       "      <td>34.0</td>\n",
       "      <td>483.203718</td>\n",
       "      <td>3.92030</td>\n",
       "      <td>8.21</td>\n",
       "    </tr>\n",
       "    <tr>\n",
       "      <th>CHEMBL4116921</th>\n",
       "      <td>35.0</td>\n",
       "      <td>497.219368</td>\n",
       "      <td>4.31040</td>\n",
       "      <td>8.59</td>\n",
       "    </tr>\n",
       "    <tr>\n",
       "      <th>CHEMBL4116453</th>\n",
       "      <td>22.0</td>\n",
       "      <td>327.146203</td>\n",
       "      <td>1.49000</td>\n",
       "      <td>8.28</td>\n",
       "    </tr>\n",
       "    <tr>\n",
       "      <th>CHEMBL1852108</th>\n",
       "      <td>24.0</td>\n",
       "      <td>353.161853</td>\n",
       "      <td>2.02420</td>\n",
       "      <td>7.7</td>\n",
       "    </tr>\n",
       "    <tr>\n",
       "      <th>CHEMBL4117997</th>\n",
       "      <td>32.0</td>\n",
       "      <td>459.203717</td>\n",
       "      <td>3.30550</td>\n",
       "      <td>8.41</td>\n",
       "    </tr>\n",
       "    <tr>\n",
       "      <th>CHEMBL7976</th>\n",
       "      <td>16.0</td>\n",
       "      <td>208.088815</td>\n",
       "      <td>3.58270</td>\n",
       "      <td>None</td>\n",
       "    </tr>\n",
       "    <tr>\n",
       "      <th>CHEMBL34259</th>\n",
       "      <td>33.0</td>\n",
       "      <td>454.171316</td>\n",
       "      <td>0.26840</td>\n",
       "      <td>8.1</td>\n",
       "    </tr>\n",
       "    <tr>\n",
       "      <th>CHEMBL34259</th>\n",
       "      <td>33.0</td>\n",
       "      <td>454.171316</td>\n",
       "      <td>0.26840</td>\n",
       "      <td>11</td>\n",
       "    </tr>\n",
       "    <tr>\n",
       "      <th>CHEMBL22</th>\n",
       "      <td>21.0</td>\n",
       "      <td>290.137890</td>\n",
       "      <td>1.25760</td>\n",
       "      <td>4.32</td>\n",
       "    </tr>\n",
       "    <tr>\n",
       "      <th>CHEMBL747</th>\n",
       "      <td>17.0</td>\n",
       "      <td>251.093773</td>\n",
       "      <td>1.52550</td>\n",
       "      <td>4.37</td>\n",
       "    </tr>\n",
       "    <tr>\n",
       "      <th>CHEMBL747</th>\n",
       "      <td>17.0</td>\n",
       "      <td>251.093773</td>\n",
       "      <td>1.52550</td>\n",
       "      <td>6.39</td>\n",
       "    </tr>\n",
       "    <tr>\n",
       "      <th>CHEMBL7130</th>\n",
       "      <td>17.0</td>\n",
       "      <td>251.093773</td>\n",
       "      <td>1.52550</td>\n",
       "      <td>7</td>\n",
       "    </tr>\n",
       "    <tr>\n",
       "      <th>CHEMBL268088</th>\n",
       "      <td>17.0</td>\n",
       "      <td>295.043258</td>\n",
       "      <td>1.63460</td>\n",
       "      <td>7.16</td>\n",
       "    </tr>\n",
       "    <tr>\n",
       "      <th>CHEMBL6948</th>\n",
       "      <td>20.0</td>\n",
       "      <td>285.120130</td>\n",
       "      <td>1.89090</td>\n",
       "      <td>6.89</td>\n",
       "    </tr>\n",
       "    <tr>\n",
       "      <th>CHEMBL92583</th>\n",
       "      <td>18.0</td>\n",
       "      <td>285.054801</td>\n",
       "      <td>2.17890</td>\n",
       "      <td>6.96</td>\n",
       "    </tr>\n",
       "    <tr>\n",
       "      <th>CHEMBL4105317</th>\n",
       "      <td>23.0</td>\n",
       "      <td>325.151430</td>\n",
       "      <td>2.81520</td>\n",
       "      <td>4.88</td>\n",
       "    </tr>\n",
       "    <tr>\n",
       "      <th>CHEMBL36</th>\n",
       "      <td>17.0</td>\n",
       "      <td>248.082874</td>\n",
       "      <td>2.52380</td>\n",
       "      <td>6.33</td>\n",
       "    </tr>\n",
       "    <tr>\n",
       "      <th>CHEMBL2382332</th>\n",
       "      <td>23.0</td>\n",
       "      <td>308.174945</td>\n",
       "      <td>3.08050</td>\n",
       "      <td>7.96</td>\n",
       "    </tr>\n",
       "  </tbody>\n",
       "</table>\n",
       "<p>1580 rows × 4 columns</p>\n",
       "</div>"
      ],
      "text/plain": [
       "                           heavyAtomCount      ...        pchembl_value\n",
       "parent_molecule_chembl_id                      ...                     \n",
       "CHEMBL7130                           17.0      ...                 7.03\n",
       "CHEMBL33697                          32.0      ...                 7.65\n",
       "CHEMBL281618                         28.0      ...                 6.11\n",
       "CHEMBL22                             21.0      ...                 6.71\n",
       "CHEMBL20975                          24.0      ...                 7.37\n",
       "CHEMBL20587                          25.0      ...                 6.66\n",
       "CHEMBL6742                           16.0      ...                 5.78\n",
       "CHEMBL176987                         24.0      ...                 6.01\n",
       "CHEMBL21254                          28.0      ...                 6.52\n",
       "CHEMBL20466                          28.0      ...                 6.87\n",
       "CHEMBL280378                         26.0      ...                 7.23\n",
       "CHEMBL6666                           30.0      ...                 7.11\n",
       "CHEMBL25817                          20.0      ...                 6.92\n",
       "CHEMBL277176                         24.0      ...                 7.21\n",
       "CHEMBL279455                         22.0      ...                 7.36\n",
       "CHEMBL23338                          22.0      ...                 7.03\n",
       "CHEMBL36083                          32.0      ...                  8.6\n",
       "CHEMBL36083                          32.0      ...                    9\n",
       "CHEMBL22                             21.0      ...                 6.35\n",
       "CHEMBL34259                          33.0      ...                 9.09\n",
       "CHEMBL22                             21.0      ...                 None\n",
       "CHEMBL61708                          31.0      ...                    5\n",
       "CHEMBL282022                         22.0      ...                 6.96\n",
       "CHEMBL225072                         31.0      ...                 5.64\n",
       "CHEMBL34918                          35.0      ...                 6.34\n",
       "CHEMBL23447                          20.0      ...                 6.51\n",
       "CHEMBL278345                         22.0      ...                 7.17\n",
       "CHEMBL83644                          34.0      ...                 8.89\n",
       "CHEMBL34259                          33.0      ...                 8.92\n",
       "CHEMBL119                            27.0      ...                 7.05\n",
       "...                                   ...      ...                  ...\n",
       "CHEMBL4116069                        31.0      ...                 7.85\n",
       "CHEMBL4117001                        31.0      ...                 7.27\n",
       "CHEMBL4117265                        31.0      ...                 7.23\n",
       "CHEMBL4117071                        32.0      ...                 8.04\n",
       "CHEMBL4116874                        32.0      ...                 8.05\n",
       "CHEMBL4116786                        32.0      ...                 8.19\n",
       "CHEMBL4116722                        32.0      ...                 8.49\n",
       "CHEMBL4117918                        33.0      ...                 8.47\n",
       "CHEMBL4117390                        33.0      ...                 8.38\n",
       "CHEMBL4117002                        33.0      ...                  8.4\n",
       "CHEMBL4116030                        33.0      ...                 8.32\n",
       "CHEMBL4116198                        33.0      ...                 7.88\n",
       "CHEMBL4117533                        34.0      ...                 8.21\n",
       "CHEMBL4116921                        35.0      ...                 8.59\n",
       "CHEMBL4116453                        22.0      ...                 8.28\n",
       "CHEMBL1852108                        24.0      ...                  7.7\n",
       "CHEMBL4117997                        32.0      ...                 8.41\n",
       "CHEMBL7976                           16.0      ...                 None\n",
       "CHEMBL34259                          33.0      ...                  8.1\n",
       "CHEMBL34259                          33.0      ...                   11\n",
       "CHEMBL22                             21.0      ...                 4.32\n",
       "CHEMBL747                            17.0      ...                 4.37\n",
       "CHEMBL747                            17.0      ...                 6.39\n",
       "CHEMBL7130                           17.0      ...                    7\n",
       "CHEMBL268088                         17.0      ...                 7.16\n",
       "CHEMBL6948                           20.0      ...                 6.89\n",
       "CHEMBL92583                          18.0      ...                 6.96\n",
       "CHEMBL4105317                        23.0      ...                 4.88\n",
       "CHEMBL36                             17.0      ...                 6.33\n",
       "CHEMBL2382332                        23.0      ...                 7.96\n",
       "\n",
       "[1580 rows x 4 columns]"
      ]
     },
     "execution_count": 21,
     "metadata": {},
     "output_type": "execute_result"
    }
   ],
   "source": [
    "def calc_descriptor(smiles):\n",
    "    mol = Chem.MolFromSmiles(smiles)\n",
    "    return pd.Series({'heavyAtomCount': Chem.Descriptors.HeavyAtomCount(mol),\n",
    "                      'ExactMolWt': Chem.Descriptors.ExactMolWt(mol),\n",
    "                      'MolLogP': Chem.Descriptors.MolLogP(mol)})\n",
    "\n",
    "aux_df = chembl_data_source.bioactivities_df['canonical_smiles'].apply(calc_descriptor)\n",
    "aux_df.index = chembl_data_source.bioactivities_df['parent_molecule_chembl_id']\n",
    "aux_df['pchembl_value'] = chembl_data_source.bioactivities_df['pchembl_value'].values\n",
    "aux_df"
   ]
  },
  {
   "cell_type": "code",
   "execution_count": 22,
   "metadata": {
    "ExecuteTime": {
     "end_time": "2019-03-29T12:01:00.618142Z",
     "start_time": "2019-03-29T12:01:00.612110Z"
    }
   },
   "outputs": [
    {
     "data": {
      "text/plain": [
       "['BalabanJ',\n",
       " 'BertzCT',\n",
       " 'Chem',\n",
       " 'Chi0',\n",
       " 'Chi0n',\n",
       " 'Chi0v',\n",
       " 'Chi1',\n",
       " 'Chi1n',\n",
       " 'Chi1v',\n",
       " 'Chi2n',\n",
       " 'Chi2v',\n",
       " 'Chi3n',\n",
       " 'Chi3v',\n",
       " 'Chi4n',\n",
       " 'Chi4v',\n",
       " 'EState_VSA1',\n",
       " 'EState_VSA10',\n",
       " 'EState_VSA11',\n",
       " 'EState_VSA2',\n",
       " 'EState_VSA3',\n",
       " 'EState_VSA4',\n",
       " 'EState_VSA5',\n",
       " 'EState_VSA6',\n",
       " 'EState_VSA7',\n",
       " 'EState_VSA8',\n",
       " 'EState_VSA9',\n",
       " 'ExactMolWt',\n",
       " 'FpDensityMorgan1',\n",
       " 'FpDensityMorgan2',\n",
       " 'FpDensityMorgan3',\n",
       " 'FractionCSP3',\n",
       " 'HallKierAlpha',\n",
       " 'HeavyAtomCount',\n",
       " 'HeavyAtomMolWt',\n",
       " 'Ipc',\n",
       " 'Kappa1',\n",
       " 'Kappa2',\n",
       " 'Kappa3',\n",
       " 'LabuteASA',\n",
       " 'MaxAbsEStateIndex',\n",
       " 'MaxAbsPartialCharge',\n",
       " 'MaxEStateIndex',\n",
       " 'MaxPartialCharge',\n",
       " 'MinAbsEStateIndex',\n",
       " 'MinAbsPartialCharge',\n",
       " 'MinEStateIndex',\n",
       " 'MinPartialCharge',\n",
       " 'MolLogP',\n",
       " 'MolMR',\n",
       " 'MolWt',\n",
       " 'NHOHCount',\n",
       " 'NOCount',\n",
       " 'NumAliphaticCarbocycles',\n",
       " 'NumAliphaticHeterocycles',\n",
       " 'NumAliphaticRings',\n",
       " 'NumAromaticCarbocycles',\n",
       " 'NumAromaticHeterocycles',\n",
       " 'NumAromaticRings',\n",
       " 'NumHAcceptors',\n",
       " 'NumHDonors',\n",
       " 'NumHeteroatoms',\n",
       " 'NumRadicalElectrons',\n",
       " 'NumRotatableBonds',\n",
       " 'NumSaturatedCarbocycles',\n",
       " 'NumSaturatedHeterocycles',\n",
       " 'NumSaturatedRings',\n",
       " 'NumValenceElectrons',\n",
       " 'PEOE_VSA1',\n",
       " 'PEOE_VSA10',\n",
       " 'PEOE_VSA11',\n",
       " 'PEOE_VSA12',\n",
       " 'PEOE_VSA13',\n",
       " 'PEOE_VSA14',\n",
       " 'PEOE_VSA2',\n",
       " 'PEOE_VSA3',\n",
       " 'PEOE_VSA4',\n",
       " 'PEOE_VSA5',\n",
       " 'PEOE_VSA6',\n",
       " 'PEOE_VSA7',\n",
       " 'PEOE_VSA8',\n",
       " 'PEOE_VSA9',\n",
       " 'PropertyFunctor',\n",
       " 'RingCount',\n",
       " 'SMR_VSA1',\n",
       " 'SMR_VSA10',\n",
       " 'SMR_VSA2',\n",
       " 'SMR_VSA3',\n",
       " 'SMR_VSA4',\n",
       " 'SMR_VSA5',\n",
       " 'SMR_VSA6',\n",
       " 'SMR_VSA7',\n",
       " 'SMR_VSA8',\n",
       " 'SMR_VSA9',\n",
       " 'SlogP_VSA1',\n",
       " 'SlogP_VSA10',\n",
       " 'SlogP_VSA11',\n",
       " 'SlogP_VSA12',\n",
       " 'SlogP_VSA2',\n",
       " 'SlogP_VSA3',\n",
       " 'SlogP_VSA4',\n",
       " 'SlogP_VSA5',\n",
       " 'SlogP_VSA6',\n",
       " 'SlogP_VSA7',\n",
       " 'SlogP_VSA8',\n",
       " 'SlogP_VSA9',\n",
       " 'TPSA',\n",
       " 'VSA_EState1',\n",
       " 'VSA_EState10',\n",
       " 'VSA_EState2',\n",
       " 'VSA_EState3',\n",
       " 'VSA_EState4',\n",
       " 'VSA_EState5',\n",
       " 'VSA_EState6',\n",
       " 'VSA_EState7',\n",
       " 'VSA_EState8',\n",
       " 'VSA_EState9',\n",
       " '_ChargeDescriptors',\n",
       " '_FingerprintDensity',\n",
       " '__builtins__',\n",
       " '__cached__',\n",
       " '__doc__',\n",
       " '__file__',\n",
       " '__loader__',\n",
       " '__name__',\n",
       " '__package__',\n",
       " '__spec__',\n",
       " '_descList',\n",
       " '_du',\n",
       " '_isCallable',\n",
       " '_rdMolDescriptors',\n",
       " '_runDoctests',\n",
       " '_setupDescriptors',\n",
       " 'collections',\n",
       " 'descList',\n",
       " 'fr_Al_COO',\n",
       " 'fr_Al_OH',\n",
       " 'fr_Al_OH_noTert',\n",
       " 'fr_ArN',\n",
       " 'fr_Ar_COO',\n",
       " 'fr_Ar_N',\n",
       " 'fr_Ar_NH',\n",
       " 'fr_Ar_OH',\n",
       " 'fr_COO',\n",
       " 'fr_COO2',\n",
       " 'fr_C_O',\n",
       " 'fr_C_O_noCOO',\n",
       " 'fr_C_S',\n",
       " 'fr_HOCCN',\n",
       " 'fr_Imine',\n",
       " 'fr_NH0',\n",
       " 'fr_NH1',\n",
       " 'fr_NH2',\n",
       " 'fr_N_O',\n",
       " 'fr_Ndealkylation1',\n",
       " 'fr_Ndealkylation2',\n",
       " 'fr_Nhpyrrole',\n",
       " 'fr_SH',\n",
       " 'fr_aldehyde',\n",
       " 'fr_alkyl_carbamate',\n",
       " 'fr_alkyl_halide',\n",
       " 'fr_allylic_oxid',\n",
       " 'fr_amide',\n",
       " 'fr_amidine',\n",
       " 'fr_aniline',\n",
       " 'fr_aryl_methyl',\n",
       " 'fr_azide',\n",
       " 'fr_azo',\n",
       " 'fr_barbitur',\n",
       " 'fr_benzene',\n",
       " 'fr_benzodiazepine',\n",
       " 'fr_bicyclic',\n",
       " 'fr_diazo',\n",
       " 'fr_dihydropyridine',\n",
       " 'fr_epoxide',\n",
       " 'fr_ester',\n",
       " 'fr_ether',\n",
       " 'fr_furan',\n",
       " 'fr_guanido',\n",
       " 'fr_halogen',\n",
       " 'fr_hdrzine',\n",
       " 'fr_hdrzone',\n",
       " 'fr_imidazole',\n",
       " 'fr_imide',\n",
       " 'fr_isocyan',\n",
       " 'fr_isothiocyan',\n",
       " 'fr_ketone',\n",
       " 'fr_ketone_Topliss',\n",
       " 'fr_lactam',\n",
       " 'fr_lactone',\n",
       " 'fr_methoxy',\n",
       " 'fr_morpholine',\n",
       " 'fr_nitrile',\n",
       " 'fr_nitro',\n",
       " 'fr_nitro_arom',\n",
       " 'fr_nitro_arom_nonortho',\n",
       " 'fr_nitroso',\n",
       " 'fr_oxazole',\n",
       " 'fr_oxime',\n",
       " 'fr_para_hydroxylation',\n",
       " 'fr_phenol',\n",
       " 'fr_phenol_noOrthoHbond',\n",
       " 'fr_phos_acid',\n",
       " 'fr_phos_ester',\n",
       " 'fr_piperdine',\n",
       " 'fr_piperzine',\n",
       " 'fr_priamide',\n",
       " 'fr_prisulfonamd',\n",
       " 'fr_pyridine',\n",
       " 'fr_quatN',\n",
       " 'fr_sulfide',\n",
       " 'fr_sulfonamd',\n",
       " 'fr_sulfone',\n",
       " 'fr_term_acetylene',\n",
       " 'fr_tetrazole',\n",
       " 'fr_thiazole',\n",
       " 'fr_thiocyan',\n",
       " 'fr_thiophene',\n",
       " 'fr_unbrch_alkane',\n",
       " 'fr_urea',\n",
       " 'qed',\n",
       " 'rdMolDescriptors',\n",
       " 'rdPartialCharges']"
      ]
     },
     "execution_count": 22,
     "metadata": {},
     "output_type": "execute_result"
    }
   ],
   "source": [
    "dir(Chem.Descriptors)"
   ]
  },
  {
   "cell_type": "markdown",
   "metadata": {},
   "source": [
    "# Preprocessing\n",
    "\n",
    "Methods in `Preprocessing` class filters out invalid/more inaccurate entries for QSAR modelling. In summary, the preprocessing step for ChEMBL data involves:\n",
    "\n",
    "- Select only valid entries as indicated by the column `data_validity_comment`\n",
    "- Select only entries where relation is of type equality (e.g.: IC50 = 30nM), as indicated by column `relation`\n",
    "- Handle duplicated entries\n",
    "- Remove data marked as outliers\n",
    "\n",
    "To obtain a preprocessed dataset, either use `chembl_data_source.get_qsar_dataset()` method or the function `build_qsar_dataset(chembl_data_source)`:\n"
   ]
  },
  {
   "cell_type": "code",
   "execution_count": 14,
   "metadata": {
    "ExecuteTime": {
     "end_time": "2019-03-29T11:59:25.419406Z",
     "start_time": "2019-03-29T11:59:25.345656Z"
    }
   },
   "outputs": [
    {
     "name": "stdout",
     "output_type": "stream",
     "text": [
      "CDK Bridge process running\n",
      "CDK Bridge process running\n",
      "Cleaning up JavaGateway\n"
     ]
    },
    {
     "ename": "Py4JNetworkError",
     "evalue": "Gateway is not connected.",
     "output_type": "error",
     "traceback": [
      "\u001b[0;31m---------------------------------------------------------------------------\u001b[0m",
      "\u001b[0;31mPy4JNetworkError\u001b[0m                          Traceback (most recent call last)",
      "\u001b[0;32m<ipython-input-14-bc4697027d60>\u001b[0m in \u001b[0;36m<module>\u001b[0;34m()\u001b[0m\n\u001b[0;32m----> 1\u001b[0;31m \u001b[0mqsar_dataset\u001b[0m \u001b[0;34m=\u001b[0m \u001b[0mchembl_data_source\u001b[0m\u001b[0;34m.\u001b[0m\u001b[0mget_qsar_dataset\u001b[0m\u001b[0;34m(\u001b[0m\u001b[0;34m)\u001b[0m\u001b[0;34m\u001b[0m\u001b[0m\n\u001b[0m",
      "\u001b[0;32m/mnt/code/modSAR/datasource.py\u001b[0m in \u001b[0;36mget_qsar_dataset\u001b[0;34m(self)\u001b[0m\n\u001b[1;32m    208\u001b[0m     \u001b[0;32mdef\u001b[0m \u001b[0mget_qsar_dataset\u001b[0m\u001b[0;34m(\u001b[0m\u001b[0mself\u001b[0m\u001b[0;34m)\u001b[0m\u001b[0;34m:\u001b[0m\u001b[0;34m\u001b[0m\u001b[0m\n\u001b[1;32m    209\u001b[0m         \u001b[0;34m\"\"\"Preprocess and transform bioactivities into a QSARDataset object\"\"\"\u001b[0m\u001b[0;34m\u001b[0m\u001b[0m\n\u001b[0;32m--> 210\u001b[0;31m         \u001b[0;32mreturn\u001b[0m \u001b[0mbuild_qsar_dataset\u001b[0m\u001b[0;34m(\u001b[0m\u001b[0mself\u001b[0m\u001b[0;34m)\u001b[0m\u001b[0;34m\u001b[0m\u001b[0m\n\u001b[0m\u001b[1;32m    211\u001b[0m \u001b[0;34m\u001b[0m\u001b[0m\n\u001b[1;32m    212\u001b[0m     \u001b[0;32mdef\u001b[0m \u001b[0m__str__\u001b[0m\u001b[0;34m(\u001b[0m\u001b[0mself\u001b[0m\u001b[0;34m)\u001b[0m\u001b[0;34m:\u001b[0m\u001b[0;34m\u001b[0m\u001b[0m\n",
      "\u001b[0;32m/mnt/code/modSAR/datasource.py\u001b[0m in \u001b[0;36mbuild_qsar_dataset\u001b[0;34m(data_source)\u001b[0m\n\u001b[1;32m     40\u001b[0m     \u001b[0mjava_cdk_bridge\u001b[0m \u001b[0;34m=\u001b[0m \u001b[0mJavaCDKBridge\u001b[0m\u001b[0;34m(\u001b[0m\u001b[0;34m)\u001b[0m\u001b[0;34m\u001b[0m\u001b[0m\n\u001b[1;32m     41\u001b[0m     \u001b[0mjava_cdk_bridge\u001b[0m\u001b[0;34m.\u001b[0m\u001b[0mstart_cdk_java_bridge\u001b[0m\u001b[0;34m(\u001b[0m\u001b[0;34m)\u001b[0m\u001b[0;34m\u001b[0m\u001b[0m\n\u001b[0;32m---> 42\u001b[0;31m     \u001b[0mdescriptors\u001b[0m \u001b[0;34m=\u001b[0m \u001b[0mCDKDescriptors\u001b[0m\u001b[0;34m(\u001b[0m\u001b[0;34m)\u001b[0m\u001b[0;34m.\u001b[0m\u001b[0mcalculate\u001b[0m\u001b[0;34m(\u001b[0m\u001b[0mclean_df\u001b[0m\u001b[0;34m,\u001b[0m \u001b[0mdata_source\u001b[0m\u001b[0;34m.\u001b[0m\u001b[0msmiles_column\u001b[0m\u001b[0;34m)\u001b[0m\u001b[0;34m\u001b[0m\u001b[0m\n\u001b[0m\u001b[1;32m     43\u001b[0m     \u001b[0mqsar_dataset\u001b[0m \u001b[0;34m=\u001b[0m \u001b[0mQSARDataset\u001b[0m\u001b[0;34m(\u001b[0m\u001b[0mdescriptors\u001b[0m\u001b[0;34m,\u001b[0m \u001b[0mactivity\u001b[0m\u001b[0;34m=\u001b[0m\u001b[0mclean_df\u001b[0m\u001b[0;34m,\u001b[0m \u001b[0mmetadata\u001b[0m\u001b[0;34m=\u001b[0m\u001b[0mclean_df\u001b[0m\u001b[0;34m)\u001b[0m\u001b[0;34m\u001b[0m\u001b[0m\n\u001b[1;32m     44\u001b[0m     \u001b[0;32mreturn\u001b[0m \u001b[0mqsar_dataset\u001b[0m\u001b[0;34m\u001b[0m\u001b[0m\n",
      "\u001b[0;32m/mnt/code/modSAR/cdk_utils.py\u001b[0m in \u001b[0;36mcalculate\u001b[0;34m(self, data, smiles_column)\u001b[0m\n\u001b[1;32m    102\u001b[0m \u001b[0;34m\u001b[0m\u001b[0m\n\u001b[1;32m    103\u001b[0m     \u001b[0;32mdef\u001b[0m \u001b[0mcalculate\u001b[0m\u001b[0;34m(\u001b[0m\u001b[0mself\u001b[0m\u001b[0;34m,\u001b[0m \u001b[0mdata\u001b[0m\u001b[0;34m,\u001b[0m \u001b[0msmiles_column\u001b[0m\u001b[0;34m)\u001b[0m\u001b[0;34m:\u001b[0m\u001b[0;34m\u001b[0m\u001b[0m\n\u001b[0;32m--> 104\u001b[0;31m         \u001b[0mmol_container\u001b[0m \u001b[0;34m=\u001b[0m \u001b[0mself\u001b[0m\u001b[0;34m.\u001b[0m\u001b[0msmiles_parser\u001b[0m\u001b[0;34m.\u001b[0m\u001b[0mparseSmiles\u001b[0m\u001b[0;34m(\u001b[0m\u001b[0mdata\u001b[0m\u001b[0;34m[\u001b[0m\u001b[0msmiles_column\u001b[0m\u001b[0;34m]\u001b[0m\u001b[0;34m)\u001b[0m\u001b[0;34m\u001b[0m\u001b[0m\n\u001b[0m\u001b[1;32m    105\u001b[0m         \u001b[0mdict_descriptors\u001b[0m \u001b[0;34m=\u001b[0m \u001b[0;34m{\u001b[0m\u001b[0;34m}\u001b[0m\u001b[0;34m\u001b[0m\u001b[0m\n\u001b[1;32m    106\u001b[0m         \u001b[0;32mfor\u001b[0m \u001b[0mi\u001b[0m \u001b[0;32min\u001b[0m \u001b[0mrange\u001b[0m\u001b[0;34m(\u001b[0m\u001b[0mdescriptors_df\u001b[0m\u001b[0;34m.\u001b[0m\u001b[0mshape\u001b[0m\u001b[0;34m[\u001b[0m\u001b[0;36m0\u001b[0m\u001b[0;34m]\u001b[0m\u001b[0;34m)\u001b[0m\u001b[0;34m:\u001b[0m\u001b[0;34m\u001b[0m\u001b[0m\n",
      "\u001b[0;32m/opt/conda/lib/python3.6/site-packages/py4j/java_gateway.py\u001b[0m in \u001b[0;36m__call__\u001b[0;34m(self, *args)\u001b[0m\n\u001b[1;32m   1275\u001b[0m \u001b[0;34m\u001b[0m\u001b[0m\n\u001b[1;32m   1276\u001b[0m     \u001b[0;32mdef\u001b[0m \u001b[0m__call__\u001b[0m\u001b[0;34m(\u001b[0m\u001b[0mself\u001b[0m\u001b[0;34m,\u001b[0m \u001b[0;34m*\u001b[0m\u001b[0margs\u001b[0m\u001b[0;34m)\u001b[0m\u001b[0;34m:\u001b[0m\u001b[0;34m\u001b[0m\u001b[0m\n\u001b[0;32m-> 1277\u001b[0;31m         \u001b[0margs_command\u001b[0m\u001b[0;34m,\u001b[0m \u001b[0mtemp_args\u001b[0m \u001b[0;34m=\u001b[0m \u001b[0mself\u001b[0m\u001b[0;34m.\u001b[0m\u001b[0m_build_args\u001b[0m\u001b[0;34m(\u001b[0m\u001b[0;34m*\u001b[0m\u001b[0margs\u001b[0m\u001b[0;34m)\u001b[0m\u001b[0;34m\u001b[0m\u001b[0m\n\u001b[0m\u001b[1;32m   1278\u001b[0m \u001b[0;34m\u001b[0m\u001b[0m\n\u001b[1;32m   1279\u001b[0m         \u001b[0mcommand\u001b[0m \u001b[0;34m=\u001b[0m \u001b[0mproto\u001b[0m\u001b[0;34m.\u001b[0m\u001b[0mCALL_COMMAND_NAME\u001b[0m \u001b[0;34m+\u001b[0m\u001b[0;31m\\\u001b[0m\u001b[0;34m\u001b[0m\u001b[0m\n",
      "\u001b[0;32m/opt/conda/lib/python3.6/site-packages/py4j/java_gateway.py\u001b[0m in \u001b[0;36m_build_args\u001b[0;34m(self, *args)\u001b[0m\n\u001b[1;32m   1239\u001b[0m     \u001b[0;32mdef\u001b[0m \u001b[0m_build_args\u001b[0m\u001b[0;34m(\u001b[0m\u001b[0mself\u001b[0m\u001b[0;34m,\u001b[0m \u001b[0;34m*\u001b[0m\u001b[0margs\u001b[0m\u001b[0;34m)\u001b[0m\u001b[0;34m:\u001b[0m\u001b[0;34m\u001b[0m\u001b[0m\n\u001b[1;32m   1240\u001b[0m         \u001b[0;32mif\u001b[0m \u001b[0mself\u001b[0m\u001b[0;34m.\u001b[0m\u001b[0mconverters\u001b[0m \u001b[0;32mis\u001b[0m \u001b[0;32mnot\u001b[0m \u001b[0;32mNone\u001b[0m \u001b[0;32mand\u001b[0m \u001b[0mlen\u001b[0m\u001b[0;34m(\u001b[0m\u001b[0mself\u001b[0m\u001b[0;34m.\u001b[0m\u001b[0mconverters\u001b[0m\u001b[0;34m)\u001b[0m \u001b[0;34m>\u001b[0m \u001b[0;36m0\u001b[0m\u001b[0;34m:\u001b[0m\u001b[0;34m\u001b[0m\u001b[0m\n\u001b[0;32m-> 1241\u001b[0;31m             \u001b[0;34m(\u001b[0m\u001b[0mnew_args\u001b[0m\u001b[0;34m,\u001b[0m \u001b[0mtemp_args\u001b[0m\u001b[0;34m)\u001b[0m \u001b[0;34m=\u001b[0m \u001b[0mself\u001b[0m\u001b[0;34m.\u001b[0m\u001b[0m_get_args\u001b[0m\u001b[0;34m(\u001b[0m\u001b[0margs\u001b[0m\u001b[0;34m)\u001b[0m\u001b[0;34m\u001b[0m\u001b[0m\n\u001b[0m\u001b[1;32m   1242\u001b[0m         \u001b[0;32melse\u001b[0m\u001b[0;34m:\u001b[0m\u001b[0;34m\u001b[0m\u001b[0m\n\u001b[1;32m   1243\u001b[0m             \u001b[0mnew_args\u001b[0m \u001b[0;34m=\u001b[0m \u001b[0margs\u001b[0m\u001b[0;34m\u001b[0m\u001b[0m\n",
      "\u001b[0;32m/opt/conda/lib/python3.6/site-packages/py4j/java_gateway.py\u001b[0m in \u001b[0;36m_get_args\u001b[0;34m(self, args)\u001b[0m\n\u001b[1;32m   1226\u001b[0m                 \u001b[0;32mfor\u001b[0m \u001b[0mconverter\u001b[0m \u001b[0;32min\u001b[0m \u001b[0mself\u001b[0m\u001b[0;34m.\u001b[0m\u001b[0mgateway_client\u001b[0m\u001b[0;34m.\u001b[0m\u001b[0mconverters\u001b[0m\u001b[0;34m:\u001b[0m\u001b[0;34m\u001b[0m\u001b[0m\n\u001b[1;32m   1227\u001b[0m                     \u001b[0;32mif\u001b[0m \u001b[0mconverter\u001b[0m\u001b[0;34m.\u001b[0m\u001b[0mcan_convert\u001b[0m\u001b[0;34m(\u001b[0m\u001b[0marg\u001b[0m\u001b[0;34m)\u001b[0m\u001b[0;34m:\u001b[0m\u001b[0;34m\u001b[0m\u001b[0m\n\u001b[0;32m-> 1228\u001b[0;31m                         \u001b[0mtemp_arg\u001b[0m \u001b[0;34m=\u001b[0m \u001b[0mconverter\u001b[0m\u001b[0;34m.\u001b[0m\u001b[0mconvert\u001b[0m\u001b[0;34m(\u001b[0m\u001b[0marg\u001b[0m\u001b[0;34m,\u001b[0m \u001b[0mself\u001b[0m\u001b[0;34m.\u001b[0m\u001b[0mgateway_client\u001b[0m\u001b[0;34m)\u001b[0m\u001b[0;34m\u001b[0m\u001b[0m\n\u001b[0m\u001b[1;32m   1229\u001b[0m                         \u001b[0mtemp_args\u001b[0m\u001b[0;34m.\u001b[0m\u001b[0mappend\u001b[0m\u001b[0;34m(\u001b[0m\u001b[0mtemp_arg\u001b[0m\u001b[0;34m)\u001b[0m\u001b[0;34m\u001b[0m\u001b[0m\n\u001b[1;32m   1230\u001b[0m                         \u001b[0mnew_args\u001b[0m\u001b[0;34m.\u001b[0m\u001b[0mappend\u001b[0m\u001b[0;34m(\u001b[0m\u001b[0mtemp_arg\u001b[0m\u001b[0;34m)\u001b[0m\u001b[0;34m\u001b[0m\u001b[0m\n",
      "\u001b[0;32m/opt/conda/lib/python3.6/site-packages/py4j/java_collections.py\u001b[0m in \u001b[0;36mconvert\u001b[0;34m(self, object, gateway_client)\u001b[0m\n\u001b[1;32m    509\u001b[0m     \u001b[0;32mdef\u001b[0m \u001b[0mconvert\u001b[0m\u001b[0;34m(\u001b[0m\u001b[0mself\u001b[0m\u001b[0;34m,\u001b[0m \u001b[0mobject\u001b[0m\u001b[0;34m,\u001b[0m \u001b[0mgateway_client\u001b[0m\u001b[0;34m)\u001b[0m\u001b[0;34m:\u001b[0m\u001b[0;34m\u001b[0m\u001b[0m\n\u001b[1;32m    510\u001b[0m         \u001b[0mHashMap\u001b[0m \u001b[0;34m=\u001b[0m \u001b[0mJavaClass\u001b[0m\u001b[0;34m(\u001b[0m\u001b[0;34m\"java.util.HashMap\"\u001b[0m\u001b[0;34m,\u001b[0m \u001b[0mgateway_client\u001b[0m\u001b[0;34m)\u001b[0m\u001b[0;34m\u001b[0m\u001b[0m\n\u001b[0;32m--> 511\u001b[0;31m         \u001b[0mjava_map\u001b[0m \u001b[0;34m=\u001b[0m \u001b[0mHashMap\u001b[0m\u001b[0;34m(\u001b[0m\u001b[0;34m)\u001b[0m\u001b[0;34m\u001b[0m\u001b[0m\n\u001b[0m\u001b[1;32m    512\u001b[0m         \u001b[0;32mfor\u001b[0m \u001b[0mkey\u001b[0m \u001b[0;32min\u001b[0m \u001b[0mobject\u001b[0m\u001b[0;34m.\u001b[0m\u001b[0mkeys\u001b[0m\u001b[0;34m(\u001b[0m\u001b[0;34m)\u001b[0m\u001b[0;34m:\u001b[0m\u001b[0;34m\u001b[0m\u001b[0m\n\u001b[1;32m    513\u001b[0m             \u001b[0mjava_map\u001b[0m\u001b[0;34m[\u001b[0m\u001b[0mkey\u001b[0m\u001b[0;34m]\u001b[0m \u001b[0;34m=\u001b[0m \u001b[0mobject\u001b[0m\u001b[0;34m[\u001b[0m\u001b[0mkey\u001b[0m\u001b[0;34m]\u001b[0m\u001b[0;34m\u001b[0m\u001b[0m\n",
      "\u001b[0;32m/opt/conda/lib/python3.6/site-packages/py4j/java_gateway.py\u001b[0m in \u001b[0;36m__call__\u001b[0;34m(self, *args)\u001b[0m\n\u001b[1;32m   1550\u001b[0m             \u001b[0mproto\u001b[0m\u001b[0;34m.\u001b[0m\u001b[0mEND_COMMAND_PART\u001b[0m\u001b[0;34m\u001b[0m\u001b[0m\n\u001b[1;32m   1551\u001b[0m \u001b[0;34m\u001b[0m\u001b[0m\n\u001b[0;32m-> 1552\u001b[0;31m         \u001b[0manswer\u001b[0m \u001b[0;34m=\u001b[0m \u001b[0mself\u001b[0m\u001b[0;34m.\u001b[0m\u001b[0m_gateway_client\u001b[0m\u001b[0;34m.\u001b[0m\u001b[0msend_command\u001b[0m\u001b[0;34m(\u001b[0m\u001b[0mcommand\u001b[0m\u001b[0;34m)\u001b[0m\u001b[0;34m\u001b[0m\u001b[0m\n\u001b[0m\u001b[1;32m   1553\u001b[0m         return_value = get_return_value(\n\u001b[1;32m   1554\u001b[0m             answer, self._gateway_client, None, self._fqn)\n",
      "\u001b[0;32m/opt/conda/lib/python3.6/site-packages/py4j/java_gateway.py\u001b[0m in \u001b[0;36msend_command\u001b[0;34m(self, command, retry, binary)\u001b[0m\n\u001b[1;32m   1010\u001b[0m          \u001b[0;32mif\u001b[0m\u001b[0;31m \u001b[0m\u001b[0;31m`\u001b[0m\u001b[0mbinary\u001b[0m\u001b[0;31m`\u001b[0m \u001b[0;32mis\u001b[0m\u001b[0;31m \u001b[0m\u001b[0;31m`\u001b[0m\u001b[0;32mTrue\u001b[0m\u001b[0;31m`\u001b[0m\u001b[0;34m.\u001b[0m\u001b[0;34m\u001b[0m\u001b[0m\n\u001b[1;32m   1011\u001b[0m         \"\"\"\n\u001b[0;32m-> 1012\u001b[0;31m         \u001b[0mconnection\u001b[0m \u001b[0;34m=\u001b[0m \u001b[0mself\u001b[0m\u001b[0;34m.\u001b[0m\u001b[0m_get_connection\u001b[0m\u001b[0;34m(\u001b[0m\u001b[0;34m)\u001b[0m\u001b[0;34m\u001b[0m\u001b[0m\n\u001b[0m\u001b[1;32m   1013\u001b[0m         \u001b[0;32mtry\u001b[0m\u001b[0;34m:\u001b[0m\u001b[0;34m\u001b[0m\u001b[0m\n\u001b[1;32m   1014\u001b[0m             \u001b[0mresponse\u001b[0m \u001b[0;34m=\u001b[0m \u001b[0mconnection\u001b[0m\u001b[0;34m.\u001b[0m\u001b[0msend_command\u001b[0m\u001b[0;34m(\u001b[0m\u001b[0mcommand\u001b[0m\u001b[0;34m)\u001b[0m\u001b[0;34m\u001b[0m\u001b[0m\n",
      "\u001b[0;32m/opt/conda/lib/python3.6/site-packages/py4j/java_gateway.py\u001b[0m in \u001b[0;36m_get_connection\u001b[0;34m(self)\u001b[0m\n\u001b[1;32m    954\u001b[0m     \u001b[0;32mdef\u001b[0m \u001b[0m_get_connection\u001b[0m\u001b[0;34m(\u001b[0m\u001b[0mself\u001b[0m\u001b[0;34m)\u001b[0m\u001b[0;34m:\u001b[0m\u001b[0;34m\u001b[0m\u001b[0m\n\u001b[1;32m    955\u001b[0m         \u001b[0;32mif\u001b[0m \u001b[0;32mnot\u001b[0m \u001b[0mself\u001b[0m\u001b[0;34m.\u001b[0m\u001b[0mis_connected\u001b[0m\u001b[0;34m:\u001b[0m\u001b[0;34m\u001b[0m\u001b[0m\n\u001b[0;32m--> 956\u001b[0;31m             \u001b[0;32mraise\u001b[0m \u001b[0mPy4JNetworkError\u001b[0m\u001b[0;34m(\u001b[0m\u001b[0;34m\"Gateway is not connected.\"\u001b[0m\u001b[0;34m)\u001b[0m\u001b[0;34m\u001b[0m\u001b[0m\n\u001b[0m\u001b[1;32m    957\u001b[0m         \u001b[0;32mtry\u001b[0m\u001b[0;34m:\u001b[0m\u001b[0;34m\u001b[0m\u001b[0m\n\u001b[1;32m    958\u001b[0m             \u001b[0mconnection\u001b[0m \u001b[0;34m=\u001b[0m \u001b[0mself\u001b[0m\u001b[0;34m.\u001b[0m\u001b[0mdeque\u001b[0m\u001b[0;34m.\u001b[0m\u001b[0mpop\u001b[0m\u001b[0;34m(\u001b[0m\u001b[0;34m)\u001b[0m\u001b[0;34m\u001b[0m\u001b[0m\n",
      "\u001b[0;31mPy4JNetworkError\u001b[0m: Gateway is not connected."
     ]
    }
   ],
   "source": [
    "qsar_dataset = chembl_data_source.get_qsar_dataset()"
   ]
  },
  {
   "cell_type": "markdown",
   "metadata": {},
   "source": [
    "Because of this preprocessing step, the resulting data set has fewer entries:"
   ]
  },
  {
   "cell_type": "code",
   "execution_count": null,
   "metadata": {
    "ExecuteTime": {
     "end_time": "2019-02-16T20:24:27.981421Z",
     "start_time": "2019-02-16T20:24:11.956Z"
    }
   },
   "outputs": [],
   "source": [
    "import altair as alt\n",
    "\n",
    "alt.renderers.enable('notebook')\n",
    "\n",
    "chart = alt.Chart(preprocessed_df).mark_bar().encode(\n",
    "    x=alt.X(\"median_pchembl_value\", bin=True, title='Median pChEMBL value'),\n",
    "    y='count()',\n",
    "    tooltip=['count()'],\n",
    ").properties(\n",
    "    title='Activities distribution'\n",
    ")\n",
    "\n",
    "chart"
   ]
  },
  {
   "cell_type": "markdown",
   "metadata": {},
   "source": [
    "![Activities distribution](fig/notebook01/fig01_activities_distribution.png)"
   ]
  },
  {
   "cell_type": "markdown",
   "metadata": {},
   "source": [
    "# Molecular Descriptors\n",
    "\n",
    "After removing invalid and handling duplicated entries, we use Chemistry Development Kit ([CDK v2.2](https://github.com/cdk/cdk)) to calculate molecular descriptors on the resulting dataset.\n",
    "\n",
    "In order to run CDK in Python, we need to establish a bridge with the Java programming language:"
   ]
  },
  {
   "cell_type": "code",
   "execution_count": 16,
   "metadata": {
    "ExecuteTime": {
     "end_time": "2019-03-29T11:59:34.105703Z",
     "start_time": "2019-03-29T11:59:33.692123Z"
    }
   },
   "outputs": [
    {
     "name": "stderr",
     "output_type": "stream",
     "text": [
      "ERROR:py4j.java_gateway:An error occurred while trying to connect to the Java server (127.0.0.1:25333)\n",
      "Traceback (most recent call last):\n",
      "  File \"/opt/conda/lib/python3.6/site-packages/py4j/java_gateway.py\", line 958, in _get_connection\n",
      "    connection = self.deque.pop()\n",
      "IndexError: pop from an empty deque\n",
      "\n",
      "During handling of the above exception, another exception occurred:\n",
      "\n",
      "Traceback (most recent call last):\n",
      "  File \"/opt/conda/lib/python3.6/site-packages/py4j/java_gateway.py\", line 1096, in start\n",
      "    self.socket.connect((self.address, self.port))\n",
      "  File \"/opt/conda/lib/python3.6/site-packages/gevent/_socket3.py\", line 335, in connect\n",
      "    raise error(err, strerror(err))\n",
      "ConnectionRefusedError: [Errno 111] Connection refused\n"
     ]
    },
    {
     "name": "stdout",
     "output_type": "stream",
     "text": [
      "Cleaning up JavaGateway\n",
      "Compiling CDKBridge\n",
      "Starting CDKBridge\n"
     ]
    }
   ],
   "source": [
    "java_cdk_bridge = JavaCDKBridge()\n",
    "java_cdk_bridge.start_cdk_java_bridge()"
   ]
  },
  {
   "cell_type": "markdown",
   "metadata": {},
   "source": [
    "Now, we can instantiate classes and manipulate CDK Java objects from within Python:"
   ]
  },
  {
   "cell_type": "code",
   "execution_count": 17,
   "metadata": {
    "ExecuteTime": {
     "end_time": "2019-03-29T11:59:35.388694Z",
     "start_time": "2019-03-29T11:59:35.312831Z"
    }
   },
   "outputs": [
    {
     "data": {
      "text/plain": [
       "JavaObject id=o0"
      ]
     },
     "execution_count": 17,
     "metadata": {},
     "output_type": "execute_result"
    }
   ],
   "source": [
    "gateway = java_cdk_bridge.gateway\n",
    "cdk = gateway.jvm.org.openscience.cdk\n",
    "\n",
    "builder = cdk.DefaultChemObjectBuilder.getInstance()\n",
    "smiles_parser = cdk.smiles.SmilesParser(builder)\n",
    "builder"
   ]
  },
  {
   "cell_type": "code",
   "execution_count": null,
   "metadata": {
    "ExecuteTime": {
     "end_time": "2019-02-16T20:24:27.985233Z",
     "start_time": "2019-02-16T20:24:11.963Z"
    }
   },
   "outputs": [],
   "source": [
    "from py4j.java_gateway import JavaGateway, GatewayParameters\n",
    "JavaGateway(gateway_parameters=GatewayParameters(auto_convert=True))"
   ]
  },
  {
   "cell_type": "markdown",
   "metadata": {},
   "source": [
    "**DESCRIPTORS LIST**\n",
    "\n",
    "For convenience, we saved a list of all molecular descriptors classes in CDK in the `descriptors_list.csv`. "
   ]
  },
  {
   "cell_type": "code",
   "execution_count": null,
   "metadata": {
    "ExecuteTime": {
     "end_time": "2019-02-16T20:24:27.987207Z",
     "start_time": "2019-02-16T20:24:11.965Z"
    },
    "scrolled": true
   },
   "outputs": [],
   "source": [
    "descriptors_list = pd.read_csv('/mnt/data/descriptors_list.csv')\n",
    "\n",
    "def remove_prefix(java_class_name):\n",
    "    return java_class_name.replace('org.openscience.', '') + '()'\n",
    "\n",
    "descriptors_list['object_invocation'] = descriptors_list['descriptorClass'].apply(remove_prefix)\n",
    "descriptors_list"
   ]
  },
  {
   "cell_type": "markdown",
   "metadata": {},
   "source": [
    "We can calculate and combine all molecular descriptors in a DataFrame: "
   ]
  },
  {
   "cell_type": "code",
   "execution_count": null,
   "metadata": {
    "ExecuteTime": {
     "end_time": "2019-02-16T20:24:27.989087Z",
     "start_time": "2019-02-16T20:24:11.968Z"
    }
   },
   "outputs": [],
   "source": [
    "import py4j\n",
    "\n",
    "def calculate_all_descriptors(data, descriptors_df):\n",
    "    mol_container = smiles_parser.parseSmiles(data['canonical_smiles'])\n",
    "    dict_descriptors = {}\n",
    "    for i in range(descriptors_df.shape[0]):\n",
    "        descriptor = eval(descriptors_df.iloc[i]['object_invocation'])\n",
    "        descriptor.initialise(builder)\n",
    "        descriptor_names = [desc_name for desc_name in descriptor.getDescriptorNames()]\n",
    "        try:\n",
    "            descriptor_values = descriptor.calculate(mol_container).getValue().toString().split(',')\n",
    "        except Exception as e:\n",
    "            print(e)\n",
    "        \n",
    "        dict_descriptors.update({descriptor_names[j]: descriptor_values[j] \n",
    "                                 for j in range(len(descriptor_names))})\n",
    "    \n",
    "    result_df = pd.DataFrame(dict_descriptors, index=[data['parent_molecule_chembl_id']])\n",
    "    return result_df\n",
    "\n",
    "pd.concat([\n",
    "    calculate_all_descriptors(preprocessed_df.iloc[1], descriptors_list),\n",
    "    calculate_all_descriptors(preprocessed_df.iloc[0], descriptors_list)], axis=0)"
   ]
  },
  {
   "cell_type": "markdown",
   "metadata": {},
   "source": [
    "\\#TODO: Errors"
   ]
  },
  {
   "cell_type": "code",
   "execution_count": null,
   "metadata": {
    "ExecuteTime": {
     "end_time": "2019-02-16T20:24:27.991194Z",
     "start_time": "2019-02-16T20:24:11.971Z"
    }
   },
   "outputs": [],
   "source": [
    "smiles_parser.parseSmiles(preprocessed_df.iloc[351]['canonical_smiles'])"
   ]
  },
  {
   "cell_type": "code",
   "execution_count": null,
   "metadata": {
    "ExecuteTime": {
     "end_time": "2019-02-16T20:24:27.992686Z",
     "start_time": "2019-02-16T20:24:11.972Z"
    }
   },
   "outputs": [],
   "source": [
    "preprocessed_df.head(10).apply(calculate_all_descriptors, axis=1, descriptors_df=descriptors_list)"
   ]
  },
  {
   "cell_type": "code",
   "execution_count": null,
   "metadata": {
    "ExecuteTime": {
     "end_time": "2019-02-16T20:24:27.994449Z",
     "start_time": "2019-02-16T20:24:11.974Z"
    }
   },
   "outputs": [],
   "source": [
    "py4j.java_gateway.get_field(descriptor, 'CHECK_RING_SYSTEM')"
   ]
  },
  {
   "cell_type": "code",
   "execution_count": null,
   "metadata": {
    "ExecuteTime": {
     "end_time": "2019-02-16T20:24:27.995977Z",
     "start_time": "2019-02-16T20:24:11.977Z"
    }
   },
   "outputs": [],
   "source": [
    "[f for f in descriptor.getParameters()]"
   ]
  },
  {
   "cell_type": "code",
   "execution_count": null,
   "metadata": {
    "ExecuteTime": {
     "end_time": "2019-02-16T20:24:27.997477Z",
     "start_time": "2019-02-16T20:24:11.979Z"
    }
   },
   "outputs": [],
   "source": [
    "gateway.jvm.java.lang.Object()"
   ]
  },
  {
   "cell_type": "code",
   "execution_count": null,
   "metadata": {
    "ExecuteTime": {
     "end_time": "2019-02-16T20:24:27.998901Z",
     "start_time": "2019-02-16T20:24:11.981Z"
    }
   },
   "outputs": [],
   "source": [
    "descriptor.setParameters(['false'])"
   ]
  },
  {
   "cell_type": "code",
   "execution_count": null,
   "metadata": {
    "ExecuteTime": {
     "end_time": "2019-02-16T20:24:28.000243Z",
     "start_time": "2019-02-16T20:24:11.982Z"
    }
   },
   "outputs": [],
   "source": [
    "descriptor = cdk.qsar.descriptors.molecular.LongestAliphaticChainDescriptor()\n",
    "mol_container = smiles_parser.parseSmiles(preprocessed_df.iloc[2]['canonical_smiles'])\n",
    "descriptor.calculate(mol_container).getValue().toString().split(',')"
   ]
  },
  {
   "cell_type": "code",
   "execution_count": null,
   "metadata": {
    "ExecuteTime": {
     "end_time": "2019-02-16T20:24:28.002102Z",
     "start_time": "2019-02-16T20:24:11.984Z"
    }
   },
   "outputs": [],
   "source": [
    "m = Chem.MolFromSmiles(preprocessed_df.iloc[3]['canonical_smiles'])\n",
    "m"
   ]
  },
  {
   "cell_type": "code",
   "execution_count": null,
   "metadata": {
    "ExecuteTime": {
     "end_time": "2019-02-16T20:24:28.003686Z",
     "start_time": "2019-02-16T20:24:11.987Z"
    }
   },
   "outputs": [],
   "source": [
    "AllChem.CalcKappa1(m)"
   ]
  },
  {
   "cell_type": "code",
   "execution_count": null,
   "metadata": {
    "ExecuteTime": {
     "end_time": "2019-02-16T20:24:28.005454Z",
     "start_time": "2019-02-16T20:24:11.989Z"
    }
   },
   "outputs": [],
   "source": [
    "result_df.columns.tolist()"
   ]
  }
 ],
 "metadata": {
  "kernelspec": {
   "display_name": "Python 3",
   "language": "python",
   "name": "python3"
  },
  "language_info": {
   "codemirror_mode": {
    "name": "ipython",
    "version": 3
   },
   "file_extension": ".py",
   "mimetype": "text/x-python",
   "name": "python",
   "nbconvert_exporter": "python",
   "pygments_lexer": "ipython3",
   "version": "3.6.3"
  },
  "toc": {
   "nav_menu": {},
   "number_sections": true,
   "sideBar": true,
   "skip_h1_title": false,
   "title_cell": "Table of Contents",
   "title_sidebar": "Contents",
   "toc_cell": false,
   "toc_position": {},
   "toc_section_display": true,
   "toc_window_display": true
  }
 },
 "nbformat": 4,
 "nbformat_minor": 2
}
