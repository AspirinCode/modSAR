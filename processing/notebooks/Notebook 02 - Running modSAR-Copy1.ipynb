{
 "cells": [
  {
   "cell_type": "markdown",
   "metadata": {},
   "source": [
    "**OBJECTIVE:** Run modSAR algorithm on QSAR datasets "
   ]
  },
  {
   "cell_type": "code",
   "execution_count": 1,
   "metadata": {
    "ExecuteTime": {
     "end_time": "2019-10-06T18:32:59.086629Z",
     "start_time": "2019-10-06T18:32:55.471870Z"
    }
   },
   "outputs": [
    {
     "name": "stderr",
     "output_type": "stream",
     "text": [
      "/opt/conda/lib/python3.6/site-packages/grequests.py:21: MonkeyPatchWarning: Monkey-patching ssl after ssl has already been imported may lead to errors, including RecursionError on Python 3.6. It may also silently lead to incorrect behaviour on Python 3.7. Please monkey-patch earlier. See https://github.com/gevent/gevent/issues/1016. Modules that had direct imports (NOT patched): ['urllib3.util (/opt/conda/lib/python3.6/site-packages/urllib3/util/__init__.py)', 'urllib3.contrib.pyopenssl (/opt/conda/lib/python3.6/site-packages/urllib3/contrib/pyopenssl.py)']. \n",
      "  curious_george.patch_all(thread=False, select=False)\n"
     ]
    }
   ],
   "source": [
    "import math\n",
    "import numpy as np\n",
    "import pandas as pd\n",
    "\n",
    "# Import relevant modSAR classes \n",
    "from modSAR.network_algorithms import ModSAR\n",
    "from modSAR.cdk_utils import CDKUtils\n",
    "from modSAR.datasource import GenericFileDataSource\n",
    "from modSAR.preprocessing import *\n",
    "\n",
    "#from gevent import monkey\n",
    "#monkey.patch_all()\n",
    "\n",
    "# 2.5uM in Log units\n",
    "CUTOFF_ACTIVITY = - np.log10(2.5e-06)\n",
    "\n",
    "%matplotlib inline"
   ]
  },
  {
   "cell_type": "markdown",
   "metadata": {},
   "source": [
    "# Load Data"
   ]
  },
  {
   "cell_type": "code",
   "execution_count": 2,
   "metadata": {
    "ExecuteTime": {
     "end_time": "2019-10-06T18:32:59.170601Z",
     "start_time": "2019-10-06T18:32:59.088241Z"
    }
   },
   "outputs": [],
   "source": [
    "# Read annotated training set compiled by wvanhoorn \n",
    "#  https://github.com/OpenSourceMalaria/Series4_PredictiveModel/issues/1#issuecomment-523037719\n",
    "\n",
    "X = pd.read_excel('/mnt/data/Master Chemical List - annotated.xlsx')\n",
    "X['pIC50'] = -np.log10(X['Value']* 1e-06)"
   ]
  },
  {
   "cell_type": "code",
   "execution_count": 3,
   "metadata": {
    "ExecuteTime": {
     "end_time": "2019-10-06T18:32:59.180152Z",
     "start_time": "2019-10-06T18:32:59.172293Z"
    }
   },
   "outputs": [
    {
     "data": {
      "text/plain": [
       "OSM_ID                                                               OSM-A-1\n",
       "Series                                                                     1\n",
       "Assay                                                        Pfal IC50 (Guy)\n",
       "Value                                                                   3.05\n",
       "Qualifier                                                                  =\n",
       "PfaI EC50 (Inh)                                                          NaN\n",
       "Pfal IC50 (GSK)                                                          NaN\n",
       "Pfal IC50 (Syngene)                                                      NaN\n",
       "Pfal IC50 (Dundee)                                                       NaN\n",
       "Pfal IC50 (Avery)                                                        NaN\n",
       "Pfal (K1) IC50 (Avery)                                                   NaN\n",
       "Pfal IC50 (Ralph)                                                        NaN\n",
       "Pfal IC50 (Guy)                                                         3.05\n",
       "Pfal (K1) IC50 (Guy)                                                   4.379\n",
       "Pfal IC50 (Batra)                                                        NaN\n",
       "Pfal (K1) IC50 (Batra)                                                   NaN\n",
       "Pfal (3D7) IC50 (Broad)                                                  NaN\n",
       "Pfal (Dd2) IC50 (Broad)                                                  NaN\n",
       "Canonical_Smiles           Cc1cc(\\C=C\\2/S\\C(=N/c3ccccc3)\\NC2=O)c(C)n1c4cc...\n",
       "InChIKey                                         ODRSSOQWOHNABY-MOSHPQCFSA-N\n",
       "pIC50                                                                 5.5157\n",
       "Name: 0, dtype: object"
      ]
     },
     "execution_count": 3,
     "metadata": {},
     "output_type": "execute_result"
    }
   ],
   "source": [
    "X.iloc[0]"
   ]
  },
  {
   "cell_type": "code",
   "execution_count": 4,
   "metadata": {
    "ExecuteTime": {
     "end_time": "2019-10-06T18:32:59.474213Z",
     "start_time": "2019-10-06T18:32:59.182069Z"
    }
   },
   "outputs": [],
   "source": [
    "# Save this preprocessed dataset\n",
    "X.to_excel('/mnt/data/malaria_osm4_train.xlsx')"
   ]
  },
  {
   "cell_type": "code",
   "execution_count": 5,
   "metadata": {
    "ExecuteTime": {
     "end_time": "2019-10-06T18:32:59.550369Z",
     "start_time": "2019-10-06T18:32:59.476333Z"
    }
   },
   "outputs": [],
   "source": [
    "# Read the bioactivities in a more standard way with modSAR package\n",
    "\n",
    "malaria_osm4 = GenericFileDataSource(target_id='malaria_osm4', \n",
    "                                     filepath='/mnt/data/malaria_osm4_train.xlsx', \n",
    "                                     smiles_column='Canonical_Smiles', \n",
    "                                     compound_id_column='OSM_ID', \n",
    "                                     activity_column='pIC50',\n",
    "                                     apply_filter=True)"
   ]
  },
  {
   "cell_type": "code",
   "execution_count": 6,
   "metadata": {
    "ExecuteTime": {
     "end_time": "2019-10-06T18:32:59.596197Z",
     "start_time": "2019-10-06T18:32:59.551781Z"
    }
   },
   "outputs": [
    {
     "data": {
      "text/html": [
       "<div>\n",
       "<style scoped>\n",
       "    .dataframe tbody tr th:only-of-type {\n",
       "        vertical-align: middle;\n",
       "    }\n",
       "\n",
       "    .dataframe tbody tr th {\n",
       "        vertical-align: top;\n",
       "    }\n",
       "\n",
       "    .dataframe thead th {\n",
       "        text-align: right;\n",
       "    }\n",
       "</style>\n",
       "<table border=\"1\" class=\"dataframe\">\n",
       "  <thead>\n",
       "    <tr style=\"text-align: right;\">\n",
       "      <th></th>\n",
       "      <th>OSM_ID</th>\n",
       "      <th>Series</th>\n",
       "      <th>Assay</th>\n",
       "      <th>Value</th>\n",
       "      <th>Qualifier</th>\n",
       "      <th>PfaI EC50 (Inh)</th>\n",
       "      <th>Pfal IC50 (GSK)</th>\n",
       "      <th>Pfal IC50 (Syngene)</th>\n",
       "      <th>Pfal IC50 (Dundee)</th>\n",
       "      <th>Pfal IC50 (Avery)</th>\n",
       "      <th>Pfal (K1) IC50 (Avery)</th>\n",
       "      <th>Pfal IC50 (Ralph)</th>\n",
       "      <th>Pfal IC50 (Guy)</th>\n",
       "      <th>Pfal (K1) IC50 (Guy)</th>\n",
       "      <th>Pfal IC50 (Batra)</th>\n",
       "      <th>Pfal (K1) IC50 (Batra)</th>\n",
       "      <th>Pfal (3D7) IC50 (Broad)</th>\n",
       "      <th>Pfal (Dd2) IC50 (Broad)</th>\n",
       "      <th>Canonical_Smiles</th>\n",
       "      <th>InChIKey</th>\n",
       "      <th>pIC50</th>\n",
       "    </tr>\n",
       "  </thead>\n",
       "  <tbody>\n",
       "    <tr>\n",
       "      <th>0</th>\n",
       "      <td>OSM-A-1</td>\n",
       "      <td>1</td>\n",
       "      <td>Pfal IC50 (Guy)</td>\n",
       "      <td>3.050</td>\n",
       "      <td>=</td>\n",
       "      <td>NaN</td>\n",
       "      <td>NaN</td>\n",
       "      <td>NaN</td>\n",
       "      <td>NaN</td>\n",
       "      <td>NaN</td>\n",
       "      <td>NaN</td>\n",
       "      <td>NaN</td>\n",
       "      <td>3.050</td>\n",
       "      <td>4.379</td>\n",
       "      <td>NaN</td>\n",
       "      <td>NaN</td>\n",
       "      <td>NaN</td>\n",
       "      <td>NaN</td>\n",
       "      <td>Cc1cc(\\C=C\\2/S\\C(=N/c3ccccc3)\\NC2=O)c(C)n1c4cc...</td>\n",
       "      <td>ODRSSOQWOHNABY-MOSHPQCFSA-N</td>\n",
       "      <td>5.515700</td>\n",
       "    </tr>\n",
       "    <tr>\n",
       "      <th>1</th>\n",
       "      <td>OSM-A-1</td>\n",
       "      <td>1</td>\n",
       "      <td>Pfal (K1) IC50 (Guy)</td>\n",
       "      <td>4.379</td>\n",
       "      <td>=</td>\n",
       "      <td>NaN</td>\n",
       "      <td>NaN</td>\n",
       "      <td>NaN</td>\n",
       "      <td>NaN</td>\n",
       "      <td>NaN</td>\n",
       "      <td>NaN</td>\n",
       "      <td>NaN</td>\n",
       "      <td>3.050</td>\n",
       "      <td>4.379</td>\n",
       "      <td>NaN</td>\n",
       "      <td>NaN</td>\n",
       "      <td>NaN</td>\n",
       "      <td>NaN</td>\n",
       "      <td>Cc1cc(\\C=C\\2/S\\C(=N/c3ccccc3)\\NC2=O)c(C)n1c4cc...</td>\n",
       "      <td>ODRSSOQWOHNABY-MOSHPQCFSA-N</td>\n",
       "      <td>5.358625</td>\n",
       "    </tr>\n",
       "    <tr>\n",
       "      <th>2</th>\n",
       "      <td>OSM-A-2</td>\n",
       "      <td>1</td>\n",
       "      <td>Pfal IC50 (Guy)</td>\n",
       "      <td>0.574</td>\n",
       "      <td>=</td>\n",
       "      <td>NaN</td>\n",
       "      <td>NaN</td>\n",
       "      <td>NaN</td>\n",
       "      <td>NaN</td>\n",
       "      <td>NaN</td>\n",
       "      <td>NaN</td>\n",
       "      <td>NaN</td>\n",
       "      <td>0.574</td>\n",
       "      <td>1.829</td>\n",
       "      <td>NaN</td>\n",
       "      <td>NaN</td>\n",
       "      <td>NaN</td>\n",
       "      <td>NaN</td>\n",
       "      <td>Cc1cc(\\C=C\\2/S\\C(=N/c3ccccc3)\\NC2=O)c(C)n1c4cc...</td>\n",
       "      <td>LXPLFPVISCVJSC-BKUYFWCQSA-N</td>\n",
       "      <td>6.241088</td>\n",
       "    </tr>\n",
       "  </tbody>\n",
       "</table>\n",
       "</div>"
      ],
      "text/plain": [
       "    OSM_ID Series    ...                        InChIKey     pIC50\n",
       "0  OSM-A-1      1    ...     ODRSSOQWOHNABY-MOSHPQCFSA-N  5.515700\n",
       "1  OSM-A-1      1    ...     ODRSSOQWOHNABY-MOSHPQCFSA-N  5.358625\n",
       "2  OSM-A-2      1    ...     LXPLFPVISCVJSC-BKUYFWCQSA-N  6.241088\n",
       "\n",
       "[3 rows x 21 columns]"
      ]
     },
     "execution_count": 6,
     "metadata": {},
     "output_type": "execute_result"
    }
   ],
   "source": [
    "malaria_osm4.bioactivities_df.head(3)"
   ]
  },
  {
   "cell_type": "code",
   "execution_count": 7,
   "metadata": {
    "ExecuteTime": {
     "end_time": "2019-10-06T18:32:59.603441Z",
     "start_time": "2019-10-06T18:32:59.598094Z"
    }
   },
   "outputs": [
    {
     "name": "stdout",
     "output_type": "stream",
     "text": [
      "Number of compounds: 440 | Number of unique compounds: 348\n"
     ]
    }
   ],
   "source": [
    "print(\"Number of compounds: %d | Number of unique compounds: %d\" %\n",
    "      (malaria_osm4.bioactivities_df.shape[0], malaria_osm4.bioactivities_df['OSM_ID'].nunique()))"
   ]
  },
  {
   "cell_type": "code",
   "execution_count": 8,
   "metadata": {
    "ExecuteTime": {
     "end_time": "2019-10-06T18:32:59.813175Z",
     "start_time": "2019-10-06T18:32:59.605419Z"
    }
   },
   "outputs": [
    {
     "data": {
      "text/plain": [
       "<matplotlib.axes._subplots.AxesSubplot at 0x7f1a183e1400>"
      ]
     },
     "execution_count": 8,
     "metadata": {},
     "output_type": "execute_result"
    },
    {
     "data": {
      "image/png": "[encoded data removed]",
      "text/plain": [
       "<Figure size 432x288 with 1 Axes>"
      ]
     },
     "metadata": {},
     "output_type": "display_data"
    }
   ],
   "source": [
    "malaria_osm4.bioactivities_df['pIC50'].hist()"
   ]
  },
  {
   "cell_type": "markdown",
   "metadata": {},
   "source": [
    "## Build QSAR Dataset"
   ]
  },
  {
   "cell_type": "code",
   "execution_count": null,
   "metadata": {
    "ExecuteTime": {
     "start_time": "2019-10-06T18:32:55.518Z"
    }
   },
   "outputs": [
    {
     "name": "stdout",
     "output_type": "stream",
     "text": [
      "Starting CDKBridge\n",
      "(01/49) Collecting descriptors from class self.cdk.qsar.descriptors.molecular.WHIMDescriptor()\n",
      "(02/49) Collecting descriptors from class self.cdk.qsar.descriptors.molecular.BCUTDescriptor()\n",
      "(03/49) Collecting descriptors from class self.cdk.qsar.descriptors.molecular.XLogPDescriptor()\n",
      "(04/49) Collecting descriptors from class self.cdk.qsar.descriptors.molecular.WeightDescriptor()\n",
      "(05/49) Collecting descriptors from class self.cdk.qsar.descriptors.molecular.RuleOfFiveDescriptor()\n",
      "(06/49) Collecting descriptors from class self.cdk.qsar.descriptors.molecular.RotatableBondsCountDescriptor()\n",
      "(07/49) Collecting descriptors from class self.cdk.qsar.descriptors.molecular.MannholdLogPDescriptor()\n",
      "(08/49) Collecting descriptors from class self.cdk.qsar.descriptors.molecular.LargestPiSystemDescriptor()\n",
      "(09/49) Collecting descriptors from class self.cdk.qsar.descriptors.molecular.LargestChainDescriptor()\n"
     ]
    },
    {
     "name": "stderr",
     "output_type": "stream",
     "text": [
      "ERROR:root:Exception while sending command.\n",
      "Traceback (most recent call last):\n",
      "  File \"/opt/conda/lib/python3.6/site-packages/py4j/java_gateway.py\", line 1181, in send_command\n",
      "    answer = smart_decode(self.stream.readline()[:-1])\n",
      "  File \"/opt/conda/lib/python3.6/socket.py\", line 586, in readinto\n",
      "    return self._sock.recv_into(b)\n",
      "  File \"/opt/conda/lib/python3.6/site-packages/gevent/_socket3.py\", line 433, in recv_into\n",
      "    self._wait(self._read_event)\n",
      "  File \"src/gevent/_hub_primitives.py\", line 284, in gevent.__hub_primitives.wait_on_socket\n",
      "  File \"src/gevent/_hub_primitives.py\", line 289, in gevent.__hub_primitives.wait_on_socket\n",
      "  File \"src/gevent/_hub_primitives.py\", line 271, in gevent.__hub_primitives._primitive_wait\n",
      "  File \"src/gevent/_hub_primitives.py\", line 46, in gevent.__hub_primitives.WaitOperationsGreenlet.wait\n",
      "  File \"src/gevent/_hub_primitives.py\", line 46, in gevent.__hub_primitives.WaitOperationsGreenlet.wait\n",
      "  File \"src/gevent/_hub_primitives.py\", line 55, in gevent.__hub_primitives.WaitOperationsGreenlet.wait\n",
      "  File \"src/gevent/_waiter.py\", line 151, in gevent.__waiter.Waiter.get\n",
      "  File \"src/gevent/_greenlet_primitives.py\", line 60, in gevent.__greenlet_primitives.SwitchOutGreenletWithLoop.switch\n",
      "  File \"src/gevent/_greenlet_primitives.py\", line 60, in gevent.__greenlet_primitives.SwitchOutGreenletWithLoop.switch\n",
      "  File \"src/gevent/_greenlet_primitives.py\", line 64, in gevent.__greenlet_primitives.SwitchOutGreenletWithLoop.switch\n",
      "  File \"src/gevent/__greenlet_primitives.pxd\", line 35, in gevent.__greenlet_primitives._greenlet_switch\n",
      "greenlet.error: cannot switch to a different thread\n",
      "\n",
      "During handling of the above exception, another exception occurred:\n",
      "\n",
      "Traceback (most recent call last):\n",
      "  File \"/opt/conda/lib/python3.6/site-packages/py4j/java_gateway.py\", line 1014, in send_command\n",
      "    response = connection.send_command(command)\n",
      "  File \"/opt/conda/lib/python3.6/site-packages/py4j/java_gateway.py\", line 1193, in send_command\n",
      "    \"Error while receiving\", e, proto.ERROR_ON_RECEIVE)\n",
      "py4j.protocol.Py4JNetworkError: Error while receiving\n"
     ]
    },
    {
     "name": "stdout",
     "output_type": "stream",
     "text": [
      "(10/49) Collecting descriptors from class self.cdk.qsar.descriptors.molecular.BondCountDescriptor()\n",
      "(11/49) Collecting descriptors from class self.cdk.qsar.descriptors.molecular.BasicGroupCountDescriptor()\n",
      "(12/49) Collecting descriptors from class self.cdk.qsar.descriptors.molecular.AtomCountDescriptor()\n",
      "(13/49) Collecting descriptors from class self.cdk.qsar.descriptors.molecular.AromaticBondsCountDescriptor()\n",
      "(14/49) Collecting descriptors from class self.cdk.qsar.descriptors.molecular.AromaticAtomsCountDescriptor()\n",
      "(15/49) Collecting descriptors from class self.cdk.qsar.descriptors.molecular.ALOGPDescriptor()\n",
      "(16/49) Collecting descriptors from class self.cdk.qsar.descriptors.molecular.AcidicGroupCountDescriptor()\n",
      "(17/49) Collecting descriptors from class self.cdk.qsar.descriptors.molecular.SmallRingDescriptor()\n",
      "(18/49) Collecting descriptors from class self.cdk.qsar.descriptors.molecular.ZagrebIndexDescriptor()\n",
      "(19/49) Collecting descriptors from class self.cdk.qsar.descriptors.molecular.WienerNumbersDescriptor()\n",
      "(20/49) Collecting descriptors from class self.cdk.qsar.descriptors.molecular.WeightedPathDescriptor()\n"
     ]
    },
    {
     "name": "stderr",
     "output_type": "stream",
     "text": [
      "ERROR:root:Exception while sending command.\n",
      "Traceback (most recent call last):\n",
      "  File \"/opt/conda/lib/python3.6/site-packages/py4j/java_gateway.py\", line 1181, in send_command\n",
      "    answer = smart_decode(self.stream.readline()[:-1])\n",
      "  File \"/opt/conda/lib/python3.6/socket.py\", line 586, in readinto\n",
      "    return self._sock.recv_into(b)\n",
      "  File \"/opt/conda/lib/python3.6/site-packages/gevent/_socket3.py\", line 433, in recv_into\n",
      "    self._wait(self._read_event)\n",
      "  File \"src/gevent/_hub_primitives.py\", line 284, in gevent.__hub_primitives.wait_on_socket\n",
      "  File \"src/gevent/_hub_primitives.py\", line 289, in gevent.__hub_primitives.wait_on_socket\n",
      "  File \"src/gevent/_hub_primitives.py\", line 271, in gevent.__hub_primitives._primitive_wait\n",
      "  File \"src/gevent/_hub_primitives.py\", line 46, in gevent.__hub_primitives.WaitOperationsGreenlet.wait\n",
      "  File \"src/gevent/_hub_primitives.py\", line 46, in gevent.__hub_primitives.WaitOperationsGreenlet.wait\n",
      "  File \"src/gevent/_hub_primitives.py\", line 55, in gevent.__hub_primitives.WaitOperationsGreenlet.wait\n",
      "  File \"src/gevent/_waiter.py\", line 151, in gevent.__waiter.Waiter.get\n",
      "  File \"src/gevent/_greenlet_primitives.py\", line 60, in gevent.__greenlet_primitives.SwitchOutGreenletWithLoop.switch\n",
      "  File \"src/gevent/_greenlet_primitives.py\", line 60, in gevent.__greenlet_primitives.SwitchOutGreenletWithLoop.switch\n",
      "  File \"src/gevent/_greenlet_primitives.py\", line 64, in gevent.__greenlet_primitives.SwitchOutGreenletWithLoop.switch\n",
      "  File \"src/gevent/__greenlet_primitives.pxd\", line 35, in gevent.__greenlet_primitives._greenlet_switch\n",
      "greenlet.error: cannot switch to a different thread\n",
      "\n",
      "During handling of the above exception, another exception occurred:\n",
      "\n",
      "Traceback (most recent call last):\n",
      "  File \"/opt/conda/lib/python3.6/site-packages/py4j/java_gateway.py\", line 1014, in send_command\n",
      "    response = connection.send_command(command)\n",
      "  File \"/opt/conda/lib/python3.6/site-packages/py4j/java_gateway.py\", line 1193, in send_command\n",
      "    \"Error while receiving\", e, proto.ERROR_ON_RECEIVE)\n",
      "py4j.protocol.Py4JNetworkError: Error while receiving\n"
     ]
    },
    {
     "name": "stdout",
     "output_type": "stream",
     "text": [
      "(21/49) Collecting descriptors from class self.cdk.qsar.descriptors.molecular.VAdjMaDescriptor()\n",
      "(22/49) Collecting descriptors from class self.cdk.qsar.descriptors.molecular.VABCDescriptor()\n",
      "(23/49) Collecting descriptors from class self.cdk.qsar.descriptors.molecular.TPSADescriptor()\n",
      "(24/49) Collecting descriptors from class self.cdk.qsar.descriptors.molecular.PetitjeanNumberDescriptor()\n",
      "(25/49) Collecting descriptors from class self.cdk.qsar.descriptors.molecular.MDEDescriptor()\n",
      "(26/49) Collecting descriptors from class self.cdk.qsar.descriptors.molecular.KierHallSmartsDescriptor()\n",
      "(27/49) Collecting descriptors from class self.cdk.qsar.descriptors.molecular.KappaShapeIndicesDescriptor()\n",
      "(28/49) Collecting descriptors from class self.cdk.qsar.descriptors.molecular.HybridizationRatioDescriptor()\n",
      "(29/49) Collecting descriptors from class self.cdk.qsar.descriptors.molecular.FragmentComplexityDescriptor()\n",
      "(30/49) Collecting descriptors from class self.cdk.qsar.descriptors.molecular.FMFDescriptor()\n",
      "(31/49) Collecting descriptors from class self.cdk.qsar.descriptors.molecular.EccentricConnectivityIndexDescriptor()\n",
      "(32/49) Collecting descriptors from class self.cdk.qsar.descriptors.molecular.ChiPathDescriptor()\n",
      "(33/49) Collecting descriptors from class self.cdk.qsar.descriptors.molecular.ChiPathClusterDescriptor()\n",
      "(34/49) Collecting descriptors from class self.cdk.qsar.descriptors.molecular.ChiClusterDescriptor()\n",
      "(35/49) Collecting descriptors from class self.cdk.qsar.descriptors.molecular.ChiChainDescriptor()\n"
     ]
    }
   ],
   "source": [
    "# build_qsar_dataset method performs a couple of preprocessing steps:\n",
    "#  1. Treats duplicated values: A compound is discarded if it has many duplicated compounds and \n",
    "#                                 sd(pIC50) > 1 in its group of measurements\n",
    "#  2. Calculates Molecular Descriptors: Using CDK library (Java)\n",
    "#  3. Returns a QSARDataset: a python object that encapsulates a full dataset\n",
    "osm4_dataset = malaria_osm4.build_qsar_dataset()"
   ]
  },
  {
   "cell_type": "code",
   "execution_count": null,
   "metadata": {
    "ExecuteTime": {
     "start_time": "2019-10-06T18:32:55.522Z"
    }
   },
   "outputs": [],
   "source": [
    "sada"
   ]
  },
  {
   "cell_type": "markdown",
   "metadata": {},
   "source": [
    "## Calculate Pairwise Similarity\n",
    "\n",
    "We need to compute the Tanimoto similarity between all compounds before running the algorithm. \n",
    "\n",
    "This can be done with the function `calculate_pairwise_tanimoto` from `CDKUtils` class:"
   ]
  },
  {
   "cell_type": "code",
   "execution_count": null,
   "metadata": {
    "ExecuteTime": {
     "start_time": "2019-10-06T18:32:55.525Z"
    },
    "scrolled": true
   },
   "outputs": [],
   "source": [
    "cdk_utils = CDKUtils()\n",
    "# Pass a DataFrame and inform the column that contain SMILES code\n",
    "similarity_matrix = cdk_utils.calculate_pairwise_tanimoto(metadata, smiles_column='CANONICAL_SMILES')"
   ]
  },
  {
   "cell_type": "markdown",
   "metadata": {
    "ExecuteTime": {
     "end_time": "2019-05-25T20:45:37.756187Z",
     "start_time": "2019-05-25T20:45:37.753096Z"
    }
   },
   "source": [
    "Similarity is encoded as a numpy matrix"
   ]
  },
  {
   "cell_type": "code",
   "execution_count": null,
   "metadata": {
    "ExecuteTime": {
     "start_time": "2019-10-06T18:32:55.530Z"
    }
   },
   "outputs": [],
   "source": [
    "similarity_matrix"
   ]
  },
  {
   "cell_type": "code",
   "execution_count": null,
   "metadata": {
    "ExecuteTime": {
     "start_time": "2019-10-06T18:32:55.533Z"
    }
   },
   "outputs": [],
   "source": [
    "similarity_matrix.min()"
   ]
  },
  {
   "cell_type": "code",
   "execution_count": null,
   "metadata": {
    "ExecuteTime": {
     "start_time": "2019-10-06T18:32:55.536Z"
    }
   },
   "outputs": [],
   "source": [
    "similarity_matrix.max()"
   ]
  },
  {
   "cell_type": "markdown",
   "metadata": {},
   "source": [
    "# Run ModSAR algorithm\n",
    "\n",
    "Create an instance of modSAR algorithm and run `<ModSAR obj>.fit()` function with molecular descriptors, outcome variable and pairwise similarity:"
   ]
  },
  {
   "cell_type": "code",
   "execution_count": null,
   "metadata": {
    "ExecuteTime": {
     "start_time": "2019-10-06T18:32:55.539Z"
    },
    "scrolled": true
   },
   "outputs": [],
   "source": [
    "alg = ModSAR()\n",
    "alg.fit(X, y, similarity_matrix, metadata.CANONICAL_SMILES)"
   ]
  },
  {
   "cell_type": "markdown",
   "metadata": {},
   "source": [
    "## Graph\n",
    "\n",
    "We can investigate characteristics of the graph created by modSAR by inspecting the `<modSAR obj>.instance_graph` object:"
   ]
  },
  {
   "cell_type": "code",
   "execution_count": null,
   "metadata": {
    "ExecuteTime": {
     "start_time": "2019-10-06T18:32:55.545Z"
    }
   },
   "outputs": [],
   "source": [
    "alg.number_modules"
   ]
  },
  {
   "cell_type": "code",
   "execution_count": null,
   "metadata": {
    "ExecuteTime": {
     "start_time": "2019-10-06T18:32:55.551Z"
    }
   },
   "outputs": [],
   "source": [
    "alg.threshold"
   ]
  },
  {
   "cell_type": "code",
   "execution_count": null,
   "metadata": {
    "ExecuteTime": {
     "start_time": "2019-10-06T18:32:55.553Z"
    }
   },
   "outputs": [],
   "source": [
    "graph = alg.instance_graph"
   ]
  },
  {
   "cell_type": "code",
   "execution_count": null,
   "metadata": {
    "ExecuteTime": {
     "start_time": "2019-10-06T18:32:55.557Z"
    },
    "scrolled": true
   },
   "outputs": [],
   "source": [
    "print(graph)"
   ]
  },
  {
   "cell_type": "markdown",
   "metadata": {},
   "source": [
    "Largest modules:"
   ]
  },
  {
   "cell_type": "code",
   "execution_count": null,
   "metadata": {
    "ExecuteTime": {
     "start_time": "2019-10-06T18:32:55.562Z"
    },
    "scrolled": true
   },
   "outputs": [],
   "source": [
    "module_sizes = pd.Series(alg.instance_graph.vs['community']).value_counts()\n",
    "module_sizes.head(15)"
   ]
  },
  {
   "cell_type": "code",
   "execution_count": null,
   "metadata": {
    "ExecuteTime": {
     "start_time": "2019-10-06T18:32:55.567Z"
    },
    "scrolled": true
   },
   "outputs": [],
   "source": [
    "singletons = module_sizes.index[module_sizes == 1]\n",
    "non_singletons = module_sizes.index[module_sizes != 1]\n",
    "singletons"
   ]
  },
  {
   "cell_type": "code",
   "execution_count": null,
   "metadata": {
    "ExecuteTime": {
     "start_time": "2019-10-06T18:32:55.569Z"
    }
   },
   "outputs": [],
   "source": [
    "non_singletons"
   ]
  },
  {
   "cell_type": "markdown",
   "metadata": {},
   "source": [
    "## Piecewise models\n",
    "\n",
    "Every module in the graph (m01, m02, m03, etc.) is predicted by a piecewise model that we can uncover from the `<modSAR obj>.get_model_info()` function.\n",
    "\n",
    "The function returns the linear coefficients and breakpoints used to split the data into regions."
   ]
  },
  {
   "cell_type": "code",
   "execution_count": null,
   "metadata": {
    "ExecuteTime": {
     "start_time": "2019-10-06T18:32:55.574Z"
    }
   },
   "outputs": [],
   "source": [
    "coeff, breakpoints = alg.get_model_info()"
   ]
  },
  {
   "cell_type": "code",
   "execution_count": null,
   "metadata": {
    "ExecuteTime": {
     "start_time": "2019-10-06T18:32:55.579Z"
    }
   },
   "outputs": [],
   "source": [
    "breakpoints.head()"
   ]
  },
  {
   "cell_type": "code",
   "execution_count": null,
   "metadata": {
    "ExecuteTime": {
     "start_time": "2019-10-06T18:32:55.581Z"
    }
   },
   "outputs": [],
   "source": [
    "coeff.head()"
   ]
  },
  {
   "cell_type": "markdown",
   "metadata": {},
   "source": [
    "# Example: Module m17\n",
    "\n",
    "Let us take the largest module as an example and look at the piecewise models generated.\n",
    "\n",
    "Module m17 has one single breakpoint on $MDEO.12 \\le 0.174338$ which effectively splits data that falls into this module in two regions."
   ]
  },
  {
   "cell_type": "code",
   "execution_count": null,
   "metadata": {
    "ExecuteTime": {
     "start_time": "2019-10-06T18:32:55.585Z"
    }
   },
   "outputs": [],
   "source": [
    "m17_breakpoints = breakpoints.query('module == \"m17\"')\n",
    "m17_breakpoints"
   ]
  },
  {
   "cell_type": "markdown",
   "metadata": {},
   "source": [
    "We can obtain the equations for each module from the `coeff` DataFrame:"
   ]
  },
  {
   "cell_type": "code",
   "execution_count": null,
   "metadata": {
    "ExecuteTime": {
     "start_time": "2019-10-06T18:32:55.594Z"
    }
   },
   "outputs": [],
   "source": [
    "m17_coeffs = coeff.query('module == \"m17\"')\n",
    "m17_coeffs"
   ]
  },
  {
   "cell_type": "code",
   "execution_count": null,
   "metadata": {
    "ExecuteTime": {
     "start_time": "2019-10-06T18:32:55.602Z"
    }
   },
   "outputs": [],
   "source": [
    "def print_module_equations(coeffs, module):\n",
    "    \"\"\"Helper function to print a clean representation of piecewise equations for informed module\"\"\"\n",
    "    \n",
    "    coeffs = coeffs.query('module == \"%s\"' % module)\n",
    "\n",
    "    def get_linear_equation(row):\n",
    "        coeffs = ['%+.2f %s' % (val, coeff) for coeff, val in row.iteritems() \n",
    "                  if not (math.isnan(val) or float(val) == 0) and coeff != 'B']\n",
    "        equation_str = ' '.join(coeffs)\n",
    "        equation_str += \" %+.2f\" % row['B']    \n",
    "        return equation_str  \n",
    "    \n",
    "    for idx, row in coeffs.groupby(['module', 'region']):\n",
    "        equation = get_linear_equation(row.drop(columns=['module', 'region']))\n",
    "        print('Equqations for Module %s | Region %d\\n' % idx)\n",
    "        print(\"pIC50 = \", equation)\n",
    "        print()"
   ]
  },
  {
   "cell_type": "markdown",
   "metadata": {},
   "source": [
    "Equations for Region 0 ($MDEO.12 \\le 0.174338$) and Region 1 ($MDEO.12 > 0.174338$) are showed below:"
   ]
  },
  {
   "cell_type": "code",
   "execution_count": null,
   "metadata": {
    "ExecuteTime": {
     "start_time": "2019-10-06T18:32:55.609Z"
    }
   },
   "outputs": [],
   "source": [
    "print_module_equations(coeff, 'm17')"
   ]
  },
  {
   "cell_type": "markdown",
   "metadata": {},
   "source": [
    "## Structural Similarity\n",
    "\n",
    "We can investigate the common core of molecules in this module with RDKit:"
   ]
  },
  {
   "cell_type": "code",
   "execution_count": null,
   "metadata": {
    "ExecuteTime": {
     "start_time": "2019-10-06T18:32:55.615Z"
    }
   },
   "outputs": [],
   "source": [
    "from rdkit import Chem\n",
    "from rdkit.Chem import AllChem\n",
    "import rdkit.Geometry\n",
    "from rdkit.Chem import rdFMCS\n",
    "from rdkit.Chem.Draw import IPythonConsole "
   ]
  },
  {
   "cell_type": "markdown",
   "metadata": {},
   "source": [
    "Obtain SMILES codes of molecules in module m17:"
   ]
  },
  {
   "cell_type": "code",
   "execution_count": null,
   "metadata": {
    "ExecuteTime": {
     "start_time": "2019-10-06T18:32:55.619Z"
    },
    "scrolled": true
   },
   "outputs": [],
   "source": [
    "idx_mols_in_m17 = np.where(np.array(alg.instance_graph.vs['community']) == 'm17')[0]\n",
    "smiles_m17 = metadata.CANONICAL_SMILES.iloc[idx_mols_in_m17]\n",
    "smiles_m17"
   ]
  },
  {
   "cell_type": "markdown",
   "metadata": {},
   "source": [
    "### Maximum common core of these molecules:"
   ]
  },
  {
   "cell_type": "code",
   "execution_count": null,
   "metadata": {
    "ExecuteTime": {
     "start_time": "2019-10-06T18:32:55.624Z"
    }
   },
   "outputs": [],
   "source": [
    "res = rdFMCS.FindMCS([Chem.MolFromSmiles(mol) for mol in smiles_m17])\n",
    "pattern = Chem.MolFromSmarts(res.smartsString)\n",
    "pattern"
   ]
  },
  {
   "cell_type": "markdown",
   "metadata": {},
   "source": [
    "### Most representative structure:"
   ]
  },
  {
   "cell_type": "code",
   "execution_count": null,
   "metadata": {
    "ExecuteTime": {
     "start_time": "2019-10-06T18:32:55.630Z"
    }
   },
   "outputs": [],
   "source": [
    "degrees = np.array([alg.instance_graph.vs[i]['degree'] for i in idx_mols_in_m17])\n",
    "most_representative = smiles_m17.loc[idx_mols_in_m17[np.argmax(degrees)]]\n",
    "most_representative"
   ]
  },
  {
   "cell_type": "code",
   "execution_count": null,
   "metadata": {
    "ExecuteTime": {
     "start_time": "2019-10-06T18:32:55.633Z"
    },
    "scrolled": true
   },
   "outputs": [],
   "source": [
    "highest_degree_mol = Chem.MolFromSmiles(most_representative)\n",
    "highest_degree_mol"
   ]
  },
  {
   "cell_type": "markdown",
   "metadata": {},
   "source": [
    "# Example: Module m26"
   ]
  },
  {
   "cell_type": "code",
   "execution_count": null,
   "metadata": {
    "ExecuteTime": {
     "start_time": "2019-10-06T18:32:55.637Z"
    }
   },
   "outputs": [],
   "source": [
    "m26_breakpoints = breakpoints.query('module == \"m26\"')\n",
    "m26_breakpoints"
   ]
  },
  {
   "cell_type": "code",
   "execution_count": null,
   "metadata": {
    "ExecuteTime": {
     "start_time": "2019-10-06T18:32:55.643Z"
    },
    "scrolled": true
   },
   "outputs": [],
   "source": [
    "m26_coeffs = coeff.query('module == \"m26\"')\n",
    "m26_coeffs"
   ]
  },
  {
   "cell_type": "markdown",
   "metadata": {},
   "source": [
    "## Structural similarity"
   ]
  },
  {
   "cell_type": "code",
   "execution_count": null,
   "metadata": {
    "ExecuteTime": {
     "start_time": "2019-10-06T18:32:55.646Z"
    },
    "scrolled": true
   },
   "outputs": [],
   "source": [
    "idx_mols_in_m26 = np.where(np.array(alg.instance_graph.vs['community']) == 'm26')[0]\n",
    "smiles_m26 = metadata.CANONICAL_SMILES.iloc[idx_mols_in_m26]\n",
    "smiles_m26"
   ]
  },
  {
   "cell_type": "markdown",
   "metadata": {},
   "source": [
    "### Maximum common core of these molecules:"
   ]
  },
  {
   "cell_type": "code",
   "execution_count": null,
   "metadata": {
    "ExecuteTime": {
     "start_time": "2019-10-06T18:32:55.650Z"
    }
   },
   "outputs": [],
   "source": [
    "Chem.MolFromSmiles(r\"Cc1cc(\\C=C\\2/S\\C(=N/c3ccccc3)\\NC2=O)c(C)n1c4ccc(cc4)C#N\")"
   ]
  },
  {
   "cell_type": "code",
   "execution_count": null,
   "metadata": {
    "ExecuteTime": {
     "start_time": "2019-10-06T18:32:55.653Z"
    },
    "scrolled": true
   },
   "outputs": [],
   "source": [
    "res = rdFMCS.FindMCS([Chem.MolFromSmiles(mol) for mol in smiles_m26])\n",
    "pattern = Chem.MolFromSmarts(res.smartsString)\n",
    "pattern"
   ]
  },
  {
   "cell_type": "markdown",
   "metadata": {},
   "source": [
    "### Most representative structure"
   ]
  },
  {
   "cell_type": "code",
   "execution_count": null,
   "metadata": {
    "ExecuteTime": {
     "start_time": "2019-10-06T18:32:55.656Z"
    }
   },
   "outputs": [],
   "source": [
    "degrees = np.array([alg.instance_graph.vs[i]['degree'] for i in idx_mols_in_m26])\n",
    "most_representative = smiles_m26.loc[idx_mols_in_m26[np.argmax(degrees)]]\n",
    "most_representative"
   ]
  },
  {
   "cell_type": "code",
   "execution_count": null,
   "metadata": {
    "ExecuteTime": {
     "start_time": "2019-10-06T18:32:55.660Z"
    },
    "scrolled": true
   },
   "outputs": [],
   "source": [
    "highest_degree_mol = Chem.MolFromSmiles(most_representative)\n",
    "highest_degree_mol"
   ]
  },
  {
   "cell_type": "code",
   "execution_count": null,
   "metadata": {
    "ExecuteTime": {
     "start_time": "2019-10-06T18:32:55.663Z"
    }
   },
   "outputs": [],
   "source": [
    "print_module_equations(coeff, 'm26')"
   ]
  }
 ],
 "metadata": {
  "kernelspec": {
   "display_name": "Python 3",
   "language": "python",
   "name": "python3"
  },
  "language_info": {
   "codemirror_mode": {
    "name": "ipython",
    "version": 3
   },
   "file_extension": ".py",
   "mimetype": "text/x-python",
   "name": "python",
   "nbconvert_exporter": "python",
   "pygments_lexer": "ipython3",
   "version": "3.6.5"
  },
  "toc": {
   "nav_menu": {},
   "number_sections": true,
   "sideBar": true,
   "skip_h1_title": false,
   "title_cell": "Table of Contents",
   "title_sidebar": "Contents",
   "toc_cell": false,
   "toc_position": {
    "height": "calc(100% - 180px)",
    "left": "10px",
    "top": "150px",
    "width": "384px"
   },
   "toc_section_display": true,
   "toc_window_display": true
  }
 },
 "nbformat": 4,
 "nbformat_minor": 2
}
